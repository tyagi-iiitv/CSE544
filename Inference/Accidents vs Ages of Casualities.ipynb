{
 "cells": [
  {
   "cell_type": "code",
   "execution_count": 5,
   "metadata": {},
   "outputs": [],
   "source": [
    "import numpy as np # linear algebra\n",
    "import pandas as pd # data processing, CSV file I/O (e.g. pd.read_csv)\n",
    "from scipy import stats\n",
    "import scipy\n",
    "import math\n",
    "\n",
    "# Any results you write to the current directory are saved as output.\n",
    "import warnings # current version of seaborn generates a bunch of warnings that we'll ignore\n",
    "warnings.filterwarnings(\"ignore\")\n",
    "import seaborn as sns\n",
    "import matplotlib.pyplot as plt\n",
    "%matplotlib inline\n",
    "sns.set(style=\"white\", color_codes=True)"
   ]
  },
  {
   "cell_type": "code",
   "execution_count": 23,
   "metadata": {},
   "outputs": [
    {
     "data": {
      "text/plain": [
       "Index(['Accident_Index', 'Vehicle_Reference', 'Casualty_Reference',\n",
       "       'Casualty_Class', 'Sex_of_Casualty', 'Age_of_Casualty',\n",
       "       'Age_Band_of_Casualty', 'Casualty_Severity', 'Pedestrian_Location',\n",
       "       'Pedestrian_Movement', 'Car_Passenger', 'Bus_or_Coach_Passenger',\n",
       "       'Pedestrian_Road_Maintenance_Worker', 'Casualty_Type',\n",
       "       'Casualty_Home_Area_Type'],\n",
       "      dtype='object')"
      ]
     },
     "execution_count": 23,
     "metadata": {},
     "output_type": "execute_result"
    }
   ],
   "source": [
    "data = pd.read_csv('Casualties0515.csv', usecols=range(0, 15))\n",
    "data.columns"
   ]
  },
  {
   "cell_type": "code",
   "execution_count": 45,
   "metadata": {},
   "outputs": [
    {
     "name": "stdout",
     "output_type": "stream",
     "text": [
      "Mean = 22419.0\n",
      "Std = 20362.1436443\n",
      "Var = 414616893.79\n",
      "Size = 105\n"
     ]
    },
    {
     "data": {
      "text/plain": [
       "<matplotlib.axes._subplots.AxesSubplot at 0x188d7b60b38>"
      ]
     },
     "execution_count": 45,
     "metadata": {},
     "output_type": "execute_result"
    },
    {
     "data": {
      "image/png": "[encoded data removed]",
      "text/plain": [
       "<matplotlib.figure.Figure at 0x188d7899080>"
      ]
     },
     "metadata": {},
     "output_type": "display_data"
    }
   ],
   "source": [
    "subset_data = data[['Accident_Index','Age_of_Casualty']]\n",
    "subset_data = subset_data[subset_data.Age_of_Casualty != -1]\n",
    "accidents_age_of_casualty_data = list(subset_data.groupby(['Age_of_Casualty']).count().Accident_Index)\n",
    "mean = np.mean(accidents_age_of_casualty_data)\n",
    "std = np.std(accidents_age_of_casualty_data)\n",
    "var = np.var(accidents_age_of_casualty_data)\n",
    "print(\"Mean = \"+str(mean))\n",
    "print(\"Std = \"+str(std))\n",
    "print(\"Var = \"+str(var))\n",
    "\n",
    "standardized_accidents_age_of_casualty_data = [(x-mean)/std for x in  accidents_age_of_casualty_data]\n",
    "size = len(standardized_accidents_age_of_casualty_data)\n",
    "print(\"Size = \"+str(size))\n",
    "\n",
    "sns.distplot(standardized_accidents_age_of_casualty_data)\n",
    "#plt.plot(standardized_accidents_age_of_casualty_data)\n",
    "#plt.show()\n"
   ]
  },
  {
   "cell_type": "code",
   "execution_count": 36,
   "metadata": {},
   "outputs": [
    {
     "name": "stdout",
     "output_type": "stream",
     "text": [
      "Null Hypothesis(H0): 'Total number of Accidents that involved casualties of different ages over last 10 years' follow a Normal Distribution.\n",
      "Alternate Hypothesis(H1): 'Total number of Accidents that involved casualties of different ages over last 10 years' do not follow a Normal Distribution.\n",
      "\n",
      "ks_test_statistic = 0.142485860509\n",
      "Critical value at α = 0.02 is 0.14738583061167834\n",
      "\n",
      "Null Hypothesis is accepted at α = 0.02\n",
      "Therefore, 'Total number of Accidents that involved casualties of different ages over last 10 years' follow a Normal Distribution.\n",
      "\n"
     ]
    }
   ],
   "source": [
    "print(\"Null Hypothesis(H0): 'Total number of Accidents that involved casualties of different ages over last 10 years' follow a Normal Distribution.\")\n",
    "print(\"Alternate Hypothesis(H1): 'Total number of Accidents that involved casualties of different ages over last 10 years' do not follow a Normal Distribution.\\n\")\n",
    "\n",
    "ks_test_statistic = scipy.stats.kstest(standardized_accidents_time_of_day_data, 'norm')[0]\n",
    "print(\"ks_test_statistic = \"+str(ks_test_statistic))\n",
    "\n",
    "#from ks table the critical value Dn,α for D1439,0.02=(1.51743)/sqrt(size)\n",
    "alpha = 0.02\n",
    "critical_value = 1.51743/math.sqrt(size)\n",
    "print(\"Critical value at α = 0.02 is \" + str(critical_value)+\"\\n\")\n",
    "\n",
    "if ks_test_statistic > critical_value:\n",
    "    print(\"Null Hypothesis is rejected at α = \"+str(alpha))\n",
    "    print(\"Therefore, 'Total number of Accidents that involved casualties of different ages over last 10 years' do not follow a Normal Distribution.\\n\")\n",
    "else:\n",
    "    print(\"Null Hypothesis is accepted at α = \"+str(alpha))\n",
    "    print(\"Therefore, 'Total number of Accidents that involved casualties of different ages over last 10 years' follow a Normal Distribution.\\n\")"
   ]
  },
  {
   "cell_type": "markdown",
   "metadata": {},
   "source": [
    "<p>Since Sample Mean and Sample Varience are the MME estimators of True Mean and True Varience for a Normal Distribution:</p>\n",
    "<p>$Mean_{MME}$ = 22419.0</p>\n",
    "<p>$Var_{MME}$ = 414616893.79</p>"
   ]
  }
 ],
 "metadata": {
  "kernelspec": {
   "display_name": "Python 3",
   "language": "python",
   "name": "python3"
  },
  "language_info": {
   "codemirror_mode": {
    "name": "ipython",
    "version": 3
   },
   "file_extension": ".py",
   "mimetype": "text/x-python",
   "name": "python",
   "nbconvert_exporter": "python",
   "pygments_lexer": "ipython3",
   "version": "3.6.2"
  }
 },
 "nbformat": 4,
 "nbformat_minor": 2
}
