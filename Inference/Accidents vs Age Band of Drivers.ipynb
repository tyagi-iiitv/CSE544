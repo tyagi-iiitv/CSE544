{
 "cells": [
  {
   "cell_type": "code",
   "execution_count": 16,
   "metadata": {},
   "outputs": [],
   "source": [
    "import numpy as np # linear algebra\n",
    "import pandas as pd # data processing, CSV file I/O (e.g. pd.read_csv)\n",
    "from scipy import stats\n",
    "import scipy\n",
    "\n",
    "# Any results you write to the current directory are saved as output.\n",
    "import warnings # current version of seaborn generates a bunch of warnings that we'll ignore\n",
    "warnings.filterwarnings(\"ignore\")\n",
    "import seaborn as sns\n",
    "import matplotlib.pyplot as plt\n",
    "%matplotlib inline\n",
    "sns.set(style=\"white\", color_codes=True)"
   ]
  },
  {
   "cell_type": "code",
   "execution_count": 17,
   "metadata": {},
   "outputs": [
    {
     "data": {
      "text/plain": [
       "Index(['Accident_Index', 'Vehicle_Reference', 'Vehicle_Type',\n",
       "       'Towing_and_Articulation', 'Vehicle_Manoeuvre',\n",
       "       'Vehicle_Location-Restricted_Lane', 'Junction_Location',\n",
       "       'Skidding_and_Overturning', 'Hit_Object_in_Carriageway',\n",
       "       'Vehicle_Leaving_Carriageway', 'Hit_Object_off_Carriageway',\n",
       "       '1st_Point_of_Impact', 'Was_Vehicle_Left_Hand_Drive?',\n",
       "       'Journey_Purpose_of_Driver', 'Sex_of_Driver', 'Age_of_Driver',\n",
       "       'Age_Band_of_Driver', 'Engine_Capacity_(CC)', 'Propulsion_Code',\n",
       "       'Age_of_Vehicle', 'Driver_IMD_Decile', 'Driver_Home_Area_Type'],\n",
       "      dtype='object')"
      ]
     },
     "execution_count": 17,
     "metadata": {},
     "output_type": "execute_result"
    }
   ],
   "source": [
    "data = pd.read_csv('Vehicles0515.csv', usecols=range(0, 22))\n",
    "data.columns"
   ]
  },
  {
   "cell_type": "code",
   "execution_count": 76,
   "metadata": {},
   "outputs": [
    {
     "name": "stdout",
     "output_type": "stream",
     "text": [
      "Mean = 263803.090909\n",
      "Std = 230027.148674\n",
      "Var = 52912489127.0\n",
      "Size = 11\n"
     ]
    },
    {
     "data": {
      "text/plain": [
       "<matplotlib.axes._subplots.AxesSubplot at 0x23bae29ef60>"
      ]
     },
     "execution_count": 76,
     "metadata": {},
     "output_type": "execute_result"
    },
    {
     "data": {
      "image/png": "[encoded data removed]",
      "text/plain": [
       "<matplotlib.figure.Figure at 0x23bae25ae48>"
      ]
     },
     "metadata": {},
     "output_type": "display_data"
    }
   ],
   "source": [
    "subset_data = data[['Accident_Index','Age_Band_of_Driver']]\n",
    "subset_data = subset_data[subset_data.Age_Band_of_Driver != -1]\n",
    "accidents_driver_age_band_data = list(subset_data.groupby(['Age_Band_of_Driver']).count().Accident_Index)\n",
    "mean = np.mean(accidents_driver_age_band_data)\n",
    "std = np.std(accidents_driver_age_band_data)\n",
    "var = np.var(accidents_driver_age_band_data)\n",
    "print(\"Mean = \"+str(mean))\n",
    "print(\"Std = \"+str(std))\n",
    "print(\"Var = \"+str(var))\n",
    "\n",
    "standardized_accidents_driver_age_band_data = [(x-mean)/std for x in  accidents_driver_age_band_data]\n",
    "size = len(standardized_accidents_driver_age_band_data)\n",
    "print(\"Size = \"+str(size))\n",
    "\n",
    "sns.distplot(standardized_accidents_driver_age_band_data)\n",
    "#plt.plot(standardized_accidents_driver_age_band_data)\n",
    "#plt.show()"
   ]
  },
  {
   "cell_type": "code",
   "execution_count": 74,
   "metadata": {},
   "outputs": [
    {
     "name": "stdout",
     "output_type": "stream",
     "text": [
      "Null Hypothesis(H0): 'Total number of Accidents caused by drivers of different age bands over the last 10 years' follow a Normal Distribution.\n",
      "Alternate Hypothesis(H1): 'Total number of Accidents caused by drivers of different age bands over the last 10 years' do not follow a Normal Distribution.\n",
      "\n",
      "ks_test_statistic = 0.191771491373\n",
      "Critical value at α = 0.05 is 0.39122\n",
      "\n",
      "Null Hypothesis is accepted at α = 0.05\n",
      "Therefore, 'Total number of Accidents caused by drivers of different age bands over the last 10 years' follow a Normal Distribution.\n",
      "\n"
     ]
    }
   ],
   "source": [
    "print(\"Null Hypothesis(H0): 'Total number of Accidents caused by drivers of different age bands over the last 10 years' follow a Normal Distribution.\")\n",
    "print(\"Alternate Hypothesis(H1): 'Total number of Accidents caused by drivers of different age bands over the last 10 years' do not follow a Normal Distribution.\\n\")\n",
    "\n",
    "ks_test_statistic = scipy.stats.kstest(standardized_accidents_driver_age_band_data, 'norm')[0]\n",
    "print(\"ks_test_statistic = \"+str(ks_test_statistic))\n",
    "\n",
    "#from ks table the critical value Dn,α for D11,0.05=0.39122\n",
    "alpha = 0.05\n",
    "critical_value = 0.39122\n",
    "print(\"Critical value at α = 0.05 is \" + str(critical_value)+\"\\n\")\n",
    "\n",
    "if ks_test_statistic > critical_value:\n",
    "    print(\"Null Hypothesis is rejected at α = \"+str(alpha))\n",
    "    print(\"Therefore, 'Total number of Accidents caused by drivers of different age bands over the last 10 years' do not follow a Normal Distribution.\\n\")\n",
    "else:\n",
    "    print(\"Null Hypothesis is accepted at α = \"+str(alpha))\n",
    "    print(\"Therefore, 'Total number of Accidents caused by drivers of different age bands over the last 10 years' follow a Normal Distribution.\\n\")"
   ]
  },
  {
   "cell_type": "markdown",
   "metadata": {},
   "source": [
    "<p>Since Sample Mean and Sample Varience are the MME estimators of True Mean and True Varience for a Normal Distribution:</p>\n",
    "<p>$Mean_{MME}$ = 263803.090909</p>\n",
    "<p>$Var_{MME}$ = 52912489127.0</p>\n"
   ]
  }
 ],
 "metadata": {
  "kernelspec": {
   "display_name": "Python 3",
   "language": "python",
   "name": "python3"
  },
  "language_info": {
   "codemirror_mode": {
    "name": "ipython",
    "version": 3
   },
   "file_extension": ".py",
   "mimetype": "text/x-python",
   "name": "python",
   "nbconvert_exporter": "python",
   "pygments_lexer": "ipython3",
   "version": "3.6.2"
  }
 },
 "nbformat": 4,
 "nbformat_minor": 2
}
