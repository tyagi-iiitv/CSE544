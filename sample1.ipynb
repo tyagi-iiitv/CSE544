{
 "cells": [
  {
   "cell_type": "code",
   "execution_count": null,
   "metadata": {
    "_cell_guid": "b1076dfc-b9ad-4769-8c92-a6c4dae69d19",
    "_uuid": "8f2839f25d086af736a60e9eeb907d3b93b6e0e5",
    "collapsed": true
   },
   "outputs": [],
   "source": [
    "import os\n",
    "print(os.listdir(\"../\"))"
   ]
  },
  {
   "cell_type": "code",
   "execution_count": null,
   "metadata": {
    "_cell_guid": "ad783fd1-c083-4bb6-8b80-047f6827556a",
    "_uuid": "443650864f537de71d39e7d01d5cd4304952ea92",
    "collapsed": true
   },
   "outputs": [],
   "source": [
    "import numpy as np\n",
    "import pandas as pd\n",
    "import matplotlib.pyplot as plt\n",
    "%matplotlib inline\n",
    "import seaborn as sns"
   ]
  },
  {
   "cell_type": "code",
   "execution_count": null,
   "metadata": {
    "_cell_guid": "79c7e3d0-c299-4dcb-8224-4455121ee9b0",
    "_uuid": "d629ff2d2480ee46fbb7e2d37f6b5fab8052498a",
    "collapsed": true,
    "scrolled": true
   },
   "outputs": [],
   "source": [
    "# import dataset\n",
    "accidents = pd.read_csv(\"../input/dft-accident-data/Accidents0515.csv\")\n",
    "\n",
    "# take a look at first entries\n",
    "accidents.head()"
   ]
  },
  {
   "cell_type": "code",
   "execution_count": null,
   "metadata": {
    "_cell_guid": "a9c32adb-12bf-4077-8c25-7455de1ec7a5",
    "_uuid": "0f8753274365a0a07c902f90a7b166c90fbf9a71",
    "collapsed": true,
    "scrolled": true
   },
   "outputs": [],
   "source": [
    "# number of rows by number of columns\n",
    "accidents.shape"
   ]
  },
  {
   "cell_type": "code",
   "execution_count": null,
   "metadata": {
    "_cell_guid": "daf88ac2-43e9-495f-84fc-6d30dfc5c297",
    "_uuid": "ded358c9b86eecec4fbb557f5f140aeae40fe4d8",
    "collapsed": true
   },
   "outputs": [],
   "source": [
    "# check for 'NaN' values\n",
    "accidents.isnull().sum()"
   ]
  },
  {
   "cell_type": "markdown",
   "metadata": {
    "_cell_guid": "88b565c0-bbc9-42ab-a2d2-2e20428772ef",
    "_uuid": "f9494fe9a6f005e0883959d0b94d74fb3dfd3aa7"
   },
   "source": [
    "* There are many missing values. We are interested only on 'Time', 'Longitude' and 'Latitude' missing values."
   ]
  },
  {
   "cell_type": "code",
   "execution_count": null,
   "metadata": {
    "_cell_guid": "00041564-5e4d-4170-9683-52247924370a",
    "_uuid": "41eb0fffd0dc38d91f7cef0a454eca224caab368",
    "collapsed": true,
    "scrolled": true
   },
   "outputs": [],
   "source": [
    "# fill the missing values for time with 'N/A'\n",
    "accidents['Time'].fillna('N/A', inplace = True)"
   ]
  },
  {
   "cell_type": "code",
   "execution_count": null,
   "metadata": {
    "_cell_guid": "926cfc8f-0c7f-40ef-a2cd-0e2c9ff6aef8",
    "_uuid": "5213a93b8330f337d5b441dcc8af5beafb4f9a89",
    "collapsed": true
   },
   "outputs": [],
   "source": [
    "# fill the missing values for Longitude with 999\n",
    "accidents['Longitude'].fillna(999, inplace = True)\n",
    "# fill the missing values for Latitude with 999\n",
    "accidents['Latitude'].fillna(999, inplace = True)"
   ]
  },
  {
   "cell_type": "code",
   "execution_count": null,
   "metadata": {
    "_cell_guid": "17eda220-2152-49d8-a6ef-b44986877af5",
    "_uuid": "aa43cac5b9ea42ae4dcee38f26398c739d999a77",
    "collapsed": true
   },
   "outputs": [],
   "source": [
    "# Create a function to categorize accident severity\n",
    "def category(accident_severity):\n",
    "    if accident_severity == 1:\n",
    "        return 'Fatal'\n",
    "    elif accident_severity == 2:\n",
    "        return 'Serious'\n",
    "    elif accident_severity == 3:\n",
    "        return 'Slight'\n",
    "    else:\n",
    "        return 'Unknown'"
   ]
  },
  {
   "cell_type": "code",
   "execution_count": null,
   "metadata": {
    "_cell_guid": "ffd6ac2f-2b8d-49a0-aa28-cc5b8149205c",
    "_uuid": "a477e3de7f5d46a770c9ed623792147894fb1267",
    "collapsed": true
   },
   "outputs": [],
   "source": [
    "# Apply the function and add it as 'Accident_Category' column\n",
    "accidents['Accident_Category'] = accidents['Accident_Severity'].apply(category)"
   ]
  },
  {
   "cell_type": "markdown",
   "metadata": {
    "_cell_guid": "6e20ee01-0b93-4f6a-abed-2fe1d6add745",
    "_uuid": "62b933562a184e479572d0bf4ded3404ace5676b"
   },
   "source": [
    "# Explore data"
   ]
  },
  {
   "cell_type": "code",
   "execution_count": null,
   "metadata": {
    "_cell_guid": "fcc5e3b0-a7ea-4cc1-88f0-478451ff7e6e",
    "_uuid": "c4ade1d4afd049f370418a6e931713aa39d4f078",
    "collapsed": true
   },
   "outputs": [],
   "source": [
    "# Change the index to the column 'Date'\n",
    "accidents.index = pd.DatetimeIndex(accidents['Date'])"
   ]
  },
  {
   "cell_type": "code",
   "execution_count": null,
   "metadata": {
    "_cell_guid": "6ca27db1-c009-469e-ba65-961dded6fb6f",
    "_uuid": "25cc608b35718e32a9e4bea386b186821cad7703",
    "collapsed": true
   },
   "outputs": [],
   "source": [
    "plt.figure(figsize=(15,6))\n",
    "plt.title('Distribution of accidents per day', fontsize=16)\n",
    "plt.tick_params(labelsize=14)\n",
    "sns.distplot(accidents.resample('D').size(), bins=60);"
   ]
  },
  {
   "cell_type": "markdown",
   "metadata": {
    "_cell_guid": "65ca9e03-a461-48c3-8afc-bfa4a522769b",
    "_uuid": "0e6f7847225e7af95c5104a3a2233a32c969b1c0",
    "collapsed": true
   },
   "source": [
    "* As we can see the distribution follows a normal one."
   ]
  },
  {
   "cell_type": "code",
   "execution_count": null,
   "metadata": {
    "_cell_guid": "529f8615-153f-4434-bf98-a2ff81f752f8",
    "_uuid": "4f4b48d3fe24cd303cc6fe8647e299c6ce685059",
    "collapsed": true
   },
   "outputs": [],
   "source": [
    "# Create an Upper Control Limit (UCL) and a Lower Control Limit (LCL)\n",
    "accidents_daily = pd.DataFrame(accidents.resample('D').size())\n",
    "accidents_daily['MEAN'] = accidents.resample('D').size().mean()\n",
    "accidents_daily['STD'] = accidents.resample('D').size().std()\n",
    "UCL = accidents_daily['MEAN'] + 3 * accidents_daily['STD']\n",
    "LCL = accidents_daily['MEAN'] - 3 * accidents_daily['STD']\n",
    "\n",
    "# Plot total accidents per day, UCL, LCL and moving-average\n",
    "plt.figure(figsize=(15,6))\n",
    "accidents.resample('D').size().plot(label='Accidents per day')\n",
    "UCL.plot(color='red', ls='--', linewidth=1.5, label='UCL')\n",
    "LCL.plot(color='red', ls='--', linewidth=1.5, label='LCL')\n",
    "accidents_daily['MEAN'].plot(color='red', linewidth=2, label='Average')\n",
    "plt.title('Total accidents per day', fontsize=16)\n",
    "plt.xlabel('Day')\n",
    "plt.ylabel('Number of accidents')\n",
    "plt.tick_params(labelsize=14)\n",
    "plt.legend(prop={'size':16})"
   ]
  },
  {
   "cell_type": "markdown",
   "metadata": {
    "_cell_guid": "dd0a5e31-cf3c-42f4-a2e2-e8c4f7b99f60",
    "_uuid": "8921a31edcdf1a5f1ce82679ea454316bfccca12"
   },
   "source": [
    "* Some days are over the control limits.\n",
    "* The period from 2005 to late 2008 is above the average.\n",
    "* The period from 2012 to 2016 is below the average"
   ]
  },
  {
   "cell_type": "markdown",
   "metadata": {
    "_cell_guid": "62187373-a756-440f-906e-f44b40322af8",
    "_uuid": "541e08b4068b1d7f921eb935d636445d31a4e62e"
   },
   "source": [
    "## Wich days have the highest number of accidents ?"
   ]
  },
  {
   "cell_type": "code",
   "execution_count": null,
   "metadata": {
    "_cell_guid": "32d79385-23a3-4695-9ec8-777a79e519c8",
    "_uuid": "b0adeac41f3c925ceadb2fb17631f1bf6a9d2800",
    "collapsed": true
   },
   "outputs": [],
   "source": [
    "# convert the string 'Date' to date\n",
    "accidents['convert_to_date'] = pd.to_datetime(accidents['Date'])"
   ]
  },
  {
   "cell_type": "code",
   "execution_count": null,
   "metadata": {
    "_cell_guid": "addf184e-c604-4a2d-9db9-a2e61e4ce273",
    "_uuid": "4377143cb3766ed7f4bec10132cb62cfdb22c8ae",
    "collapsed": true
   },
   "outputs": [],
   "source": [
    "# add column 'Day', 'Month', 'Year' to the dataframe\n",
    "accidents['Day'] = accidents['convert_to_date'].dt.day\n",
    "accidents['Month'] = accidents['convert_to_date'].dt.month\n",
    "accidents['Year'] = accidents['convert_to_date'].dt.year"
   ]
  },
  {
   "cell_type": "code",
   "execution_count": null,
   "metadata": {
    "_cell_guid": "3f13ec54-bffe-414f-b25f-14b49c77d0a6",
    "_uuid": "044331c888d14627aa6fadb893a5f7678e2f75c7",
    "collapsed": true
   },
   "outputs": [],
   "source": [
    "# Create a pivot table by crossing the day number by the month and calculate the average number of accidents for each crossing\n",
    "accidents_pivot_table = accidents.pivot_table(values='Date', index='Day', columns='Month', aggfunc=len)\n",
    "accidents_pivot_table_date_count = accidents.pivot_table(values='Date', index='Day', columns='Month', aggfunc=lambda x: len(x.unique()))\n",
    "accidents_average = accidents_pivot_table/accidents_pivot_table_date_count\n",
    "accidents_average.columns = ['Jan','Feb','Mar','Apr','May','Jun','Jul','Aug','Sep','Oct','Nov','Dec']\n",
    "\n",
    "# Using seaborn heatmap\n",
    "plt.figure(figsize=(7,9))\n",
    "plt.title('Average number of accidents per day and month', fontsize=14)\n",
    "sns.heatmap(accidents_average.round(), cmap='seismic', linecolor='grey',linewidths=0.1, cbar=False, annot=True, fmt=\".0f\")"
   ]
  },
  {
   "cell_type": "markdown",
   "metadata": {
    "_cell_guid": "d5433e62-e5ef-4602-b224-23f833c28d73",
    "_uuid": "491e4b5b0bfc3ab1c54611718281ecbfb2ae2f6d"
   },
   "source": [
    "* The lowest number of accidents is happening on December 25 (christmas day). Also, we notice that the following days, in christmas' holidays, have low averages.\n",
    "* The 10th, 11th and 12th of each month are the worst days.\n",
    "* A lower number of accidents is occuring in the first day of each month."
   ]
  },
  {
   "cell_type": "markdown",
   "metadata": {
    "_cell_guid": "ca883f17-d7c1-46a4-8204-653cafb216a5",
    "_uuid": "01601840948a1f90f129c57c05aaf0b8d7713fea"
   },
   "source": [
    "## Which hours on the day have the highest number of accidents ?"
   ]
  },
  {
   "cell_type": "code",
   "execution_count": null,
   "metadata": {
    "_cell_guid": "88d1572d-0aaa-46d1-8fae-daa5d6d77ea3",
    "_uuid": "483bb7b3b1f194b7c4b93d67a7800840e0965c94",
    "collapsed": true
   },
   "outputs": [],
   "source": [
    "# exclude the rows with 'N/A' values in 'Time' column\n",
    "accidents_time_not_null = accidents[accidents['Time'] != 'N/A']\n",
    "\n",
    "# convert the string 'Time' to time and extract the hour\n",
    "accidents_time_not_null['Hour'] = pd.to_datetime(accidents_time_not_null['Time'], format='%H:%M').dt.hour"
   ]
  },
  {
   "cell_type": "code",
   "execution_count": null,
   "metadata": {
    "_cell_guid": "9976e847-4f9f-4d6f-971a-6fce47abb293",
    "_uuid": "4f054a944f3e0776e414151d69186068bc2b4fa1",
    "collapsed": true
   },
   "outputs": [],
   "source": [
    "# Create a pivot table by crossing the hour by the day of the week and calculate the average number of accidents for each crossing\n",
    "accidents_pivot_table = accidents_time_not_null.pivot_table(values='Date', index='Hour', columns='Day_of_Week', aggfunc=len)\n",
    "accidents_pivot_table_date_count = accidents_time_not_null.pivot_table(values='Date', index='Hour', columns='Day_of_Week', aggfunc=lambda x: len(x.unique()))\n",
    "accidents_average = accidents_pivot_table/accidents_pivot_table_date_count\n",
    "accidents_average.columns = ['Sun','Mon','Tue','Wed','Thu','Fri','Sat']\n",
    "\n",
    "# Using seaborn heatmap\n",
    "plt.figure(figsize=(6,6))\n",
    "plt.title('Average number of accidents per hour and day of the week', fontsize=14)\n",
    "plt.tick_params(labelsize=12)\n",
    "sns.heatmap(accidents_average.round(), cmap='seismic', linecolor='grey',linewidths=0.1, cbar=False, annot=True, fmt=\".0f\")"
   ]
  },
  {
   "cell_type": "markdown",
   "metadata": {
    "_cell_guid": "e3b36ae3-32bb-4437-a77c-4fdfdb4ae4d0",
    "_uuid": "360578f00741e3d545bf39ffc4fb86546a8ad302"
   },
   "source": [
    "* Accidents mostly occur between 15:00 and 18:59.\n",
    "* The hours between 20:00 and 6:59 have a lower average number of accidents."
   ]
  },
  {
   "cell_type": "markdown",
   "metadata": {
    "_cell_guid": "3f7ecf6b-0fe0-4b78-8d82-d828985ec965",
    "_uuid": "99e8e7dc51a6e788b69d135a95c50c548cd8df56"
   },
   "source": [
    "## Is the number of accidents increasing or decreasing ?"
   ]
  },
  {
   "cell_type": "code",
   "execution_count": null,
   "metadata": {
    "_cell_guid": "825a573a-46d7-4c16-aa6e-a8f939cb4203",
    "_uuid": "7bb00f9aaa20e5748f3838f088eb36edf6f0bc9f",
    "collapsed": true
   },
   "outputs": [],
   "source": [
    "# Using resample 'M' and rolling window 12\n",
    "plt.figure(figsize=(15,6))\n",
    "accidents.resample('M').size().plot(label='Total per month')\n",
    "accidents.resample('M').size().rolling(window=12).mean().plot(color='red', linewidth=5, label='12-months Moving Average')\n",
    "\n",
    "plt.title('Accidents per month', fontsize=16)\n",
    "plt.xlabel('')\n",
    "plt.legend(prop={'size':16})\n",
    "plt.tick_params(labelsize=16)"
   ]
  },
  {
   "cell_type": "markdown",
   "metadata": {
    "_cell_guid": "030800e2-a378-4dc2-903f-7148cc2626cc",
    "_uuid": "94078677c471bdc4331a17c6bf89f9591607f00f"
   },
   "source": [
    "## What about accident categories ?"
   ]
  },
  {
   "cell_type": "code",
   "execution_count": null,
   "metadata": {
    "_cell_guid": "4094a79e-5f9a-403e-bfb8-b736557e78bf",
    "_uuid": "7f351067b8f8f9d9cd910ae96bdb8304e14fc362",
    "collapsed": true
   },
   "outputs": [],
   "source": [
    "# Using pivot_table to groub by date and category, resample 'M' and rolling window 12\n",
    "accidents.pivot_table(values='Accident_Severity', index='convert_to_date', columns='Accident_Category', aggfunc=len).resample('M').sum().rolling(window=12).mean().plot(figsize=(15,6), linewidth=4)\n",
    "plt.title('Moving average of accidents per month by accident category', fontsize=16)\n",
    "plt.xlabel('')\n",
    "plt.legend(prop={'size':16})\n",
    "plt.tick_params(labelsize=16)"
   ]
  },
  {
   "cell_type": "markdown",
   "metadata": {
    "_cell_guid": "ba2a658c-70e3-4e3c-935c-a4ca93de3b71",
    "_uuid": "c96cbe5f0d48665d24c8e98990dff67c90cd663a"
   },
   "source": [
    "## Is there any trend for accident categories within a year ?"
   ]
  },
  {
   "cell_type": "code",
   "execution_count": null,
   "metadata": {
    "_cell_guid": "2cb8fd38-5a1e-4340-af19-8d371f27cba7",
    "_uuid": "b42964a8d30e0e8ae3f142db7a83e01e005e6204",
    "collapsed": true
   },
   "outputs": [],
   "source": [
    "# Create a pivot table\n",
    "accidents_pivot_table = accidents.pivot_table(values='Accident_Severity', index='Accident_Category', columns='Month', aggfunc=len)\n",
    "\n",
    "# Scale each category by diving by the max value of each one\n",
    "accidents_scaled = pd.DataFrame(accidents_pivot_table.iloc[0] / accidents_pivot_table.iloc[0].max())\n",
    "for i in [2,1]:\n",
    "    accidents_scaled[accidents_pivot_table.index[i]] =  pd.DataFrame(accidents_pivot_table.iloc[i] / accidents_pivot_table.iloc[i].max())\n",
    "\n",
    "# Using seaborn heatmap\n",
    "plt.figure(figsize=(7,9))\n",
    "plt.title('Heatmap of accident_severity by month', fontsize=14)\n",
    "sns.heatmap(accidents_scaled, cmap='seismic', linecolor='grey',linewidths=0.1, cbar=False)"
   ]
  },
  {
   "cell_type": "markdown",
   "metadata": {
    "_cell_guid": "6f60510d-c3a1-4bf8-9f43-5b842c13fa7c",
    "_uuid": "279dd4c2cd00623484df2e668fa2a592532a1dcf"
   },
   "source": [
    "* The three categories of accident are more likely to occur in October.\n",
    "* They are less likely to occur in February."
   ]
  },
  {
   "cell_type": "markdown",
   "metadata": {
    "_cell_guid": "e89f91de-c472-42c8-b004-763933b35a56",
    "_uuid": "b0e4b7c667f2573c0058a8d0df0aab2b63d301e1"
   },
   "source": [
    "## What about the day of the week ?"
   ]
  },
  {
   "cell_type": "code",
   "execution_count": null,
   "metadata": {
    "_cell_guid": "c0b189d5-311c-49ad-8d04-e5d8fe0a44dc",
    "_uuid": "b8d00cfb705a011ab029ec57781949035057928c",
    "collapsed": true
   },
   "outputs": [],
   "source": [
    "# Create a pivot table\n",
    "accidents_pivot_table = accidents.pivot_table(values='Accident_Severity', index='Accident_Category', columns='Day_of_Week', aggfunc=len)\n",
    "\n",
    "# Scale each category by diving by the max value of each one\n",
    "accidents_scaled = pd.DataFrame(accidents_pivot_table.iloc[0] / accidents_pivot_table.iloc[0].max())\n",
    "for i in [2,1]:\n",
    "    accidents_scaled[accidents_pivot_table.index[i]] =  pd.DataFrame(accidents_pivot_table.iloc[i] / accidents_pivot_table.iloc[i].max())\n",
    "\n",
    "accidents_scaled.index = ['Sun','Mon','Tue','Wed','Thu','Fri','Sat']\n",
    "\n",
    "# Using seaborn heatmap\n",
    "plt.figure(figsize=(7,9))\n",
    "plt.title('Heatmap of accident_severity by day of week', fontsize=14)\n",
    "sns.heatmap(accidents_scaled, cmap='seismic', linecolor='grey',linewidths=0.1, cbar=False)"
   ]
  },
  {
   "cell_type": "markdown",
   "metadata": {
    "_cell_guid": "414ba052-ac5c-476e-9346-7511017b699d",
    "_uuid": "adffeb2a86135584ed20c1cda1aedcb36c504c1f"
   },
   "source": [
    "* The fatal accidents are more likely to occur on saturday and less likely to occur on wednesday.\n",
    "* Other accidents are more likely to occur on friday and less likely to occur on sunday."
   ]
  },
  {
   "cell_type": "markdown",
   "metadata": {
    "_cell_guid": "8fb4e672-7183-41e9-b810-a6b7486436ea",
    "_uuid": "49a76afcaf784a58f0142e9ff3a40d324d2b4c42"
   },
   "source": [
    "## On which hours do  accident categories happen ?"
   ]
  },
  {
   "cell_type": "code",
   "execution_count": null,
   "metadata": {
    "_cell_guid": "df1aacf1-644e-43d2-8576-515144cfcee2",
    "_uuid": "f621bd5b8f5ff142f4355a171aba231322df8a32",
    "collapsed": true
   },
   "outputs": [],
   "source": [
    "# Create a pivot table\n",
    "accidents_pivot_table = accidents_time_not_null.pivot_table(values='Accident_Severity', index='Accident_Category', columns='Hour', aggfunc=len)\n",
    "  \n",
    "# Scale each category by diving by the max value of each one\n",
    "accidents_scaled = pd.DataFrame(accidents_pivot_table.iloc[0] / accidents_pivot_table.iloc[0].max())\n",
    "for i in [2,1]:\n",
    "    accidents_scaled[accidents_pivot_table.index[i]] =  pd.DataFrame(accidents_pivot_table.iloc[i] / accidents_pivot_table.iloc[i].max())\n",
    "\n",
    "\n",
    "# Using seaborn heatmap\n",
    "plt.figure(figsize=(7,9))\n",
    "plt.title('Heatmap of accident_severity by hour', fontsize=14)\n",
    "sns.heatmap(accidents_scaled, cmap='seismic', linecolor='grey',linewidths=0.1, cbar=False)"
   ]
  },
  {
   "cell_type": "markdown",
   "metadata": {
    "_cell_guid": "5c396af6-5fe4-46c6-b4d7-17b280b2636f",
    "_uuid": "55faef8c11f187ccc9c143bccea561d99dedf24d"
   },
   "source": [
    "* All accident categories are more likely to happen between 17:00 and 18:00.\n",
    "* They are less likely to happen between 4:00 and 5:00."
   ]
  },
  {
   "cell_type": "markdown",
   "metadata": {
    "_cell_guid": "89be8d6d-6571-4275-8e9b-c6fbd032dd95",
    "_uuid": "e20306eefd6d356226315889840c94c088c7b28c"
   },
   "source": [
    "## Which regions of the UK have a higher average number of accidents ?"
   ]
  },
  {
   "cell_type": "code",
   "execution_count": null,
   "metadata": {
    "_cell_guid": "1c3b586a-a236-4950-82d2-ec7d9b77a764",
    "_uuid": "abfd17e01f04f11f194a19589c0d633e26d6bfff",
    "collapsed": true
   },
   "outputs": [],
   "source": [
    "# Prepare the data\n",
    "accidents2 = accidents[accidents['Longitude'] != 999]"
   ]
  },
  {
   "cell_type": "markdown",
   "metadata": {
    "_cell_guid": "c22648a1-1376-4214-8741-ab5360361a57",
    "_uuid": "afed6ceb52774659b2008eb484e107d83af20fa7"
   },
   "source": [
    "**In the following steps, we will use the shapefiles (geospatial vector data format) of the UK postcode boundaries to create a map and calculate the number of accidents for each region. To know about shapefile format, please visit [https://en.wikipedia.org/wiki/Shapefile](https://en.wikipedia.org/wiki/Shapefile)**"
   ]
  },
  {
   "cell_type": "code",
   "execution_count": null,
   "metadata": {
    "_cell_guid": "868e2118-7fe6-4b8f-a410-5a4631201def",
    "_uuid": "43a27c89a78e9f7e57d18a02cbb06732a15a8968",
    "collapsed": true
   },
   "outputs": [],
   "source": [
    "from sklearn.utils import shuffle\n",
    "\n",
    "# shuffle the data\n",
    "accidents2 = shuffle(accidents2)"
   ]
  },
  {
   "cell_type": "markdown",
   "metadata": {
    "_cell_guid": "5ea9c3cf-c5ab-4640-87e5-eeedde14f6e5",
    "_uuid": "ce807801665bd08b3e4b4709bc2ed96ded5b6e19"
   },
   "source": [
    "I already uploaded the shapefiles to my account. You can upload yours from [http://www.opendoorlogistics.com/wp-content/uploads/Data/UK-postcode-boundaries-Jan-2015.zip](http://www.opendoorlogistics.com/wp-content/uploads/Data/UK-postcode-boundaries-Jan-2015.zip)"
   ]
  },
  {
   "cell_type": "code",
   "execution_count": null,
   "metadata": {
    "_cell_guid": "31fba54b-3392-4868-8f56-9e35c13363bd",
    "_uuid": "f87f6b53ed6d910eceb0ddfd1218e63c14d05f99",
    "collapsed": true
   },
   "outputs": [],
   "source": [
    "import shapefile\n",
    "\n",
    "# read the shapefile\n",
    "data_in_shapefile = shapefile.Reader('../input/distribution/Areas')\n",
    "print(data_in_shapefile.numRecords)"
   ]
  },
  {
   "cell_type": "markdown",
   "metadata": {
    "_uuid": "f96f2b654b86152ae978e7ebe449dc001bfa43c6"
   },
   "source": [
    "To extract the geometry, I need to use an intermediate data structure. Each record’s geometry has a __geo_interface__ property which is just a standardized way of interfacing with geographic data in Python. The interface returns data as GeoJSON, which is compatible with most other libraries, including shapely which I use below to convert the GeoJSON to a shapely geometry object."
   ]
  },
  {
   "cell_type": "code",
   "execution_count": null,
   "metadata": {
    "_cell_guid": "af130ef5-eb27-4545-912d-84bf38914c52",
    "_uuid": "9940012eaef0a320b74216fc1a36777e6ae0a54f",
    "collapsed": true
   },
   "outputs": [],
   "source": [
    "from shapely.geometry import shape\n",
    "\n",
    "# Obtain the attributes and the geometry for each record.\n",
    "attributes, geometry = [], []\n",
    "field_names = [field[0] for field in data_in_shapefile.fields[1:]]  \n",
    "for row in data_in_shapefile.shapeRecords():  \n",
    "    geometry.append(shape(row.shape.__geo_interface__))  \n",
    "    attributes.append(dict(zip(field_names, row.record))) \n",
    "print (attributes)"
   ]
  },
  {
   "cell_type": "code",
   "execution_count": null,
   "metadata": {
    "_cell_guid": "4e634925-ae46-49d6-9f33-698f3d0337bc",
    "_uuid": "9a5d352a200872abfcd650ae8c5a2a40619a8187",
    "collapsed": true
   },
   "outputs": [],
   "source": [
    "import geopandas as gpd\n",
    "\n",
    "# populate a geopandas dataframe\n",
    "gdf = gpd.GeoDataFrame(data = attributes, geometry = geometry)\n",
    "gdf.head()"
   ]
  },
  {
   "cell_type": "code",
   "execution_count": null,
   "metadata": {
    "_cell_guid": "f20df5f7-11f8-46fd-b739-6d893202cc37",
    "_uuid": "cb7d71ea5fb5080e3af35c220925ad35a0c15be8",
    "collapsed": true
   },
   "outputs": [],
   "source": [
    "from shapely.geometry import Point\n",
    "\n",
    "# create a function to map the accidents coordinates\n",
    "def map_accidents_to_areas(longitude, latitude):       \n",
    "        point = (float(longitude),float(latitude))\n",
    "        for i in range(len(gdf.geometry)):            \n",
    "            if Point(point).within(gdf.geometry.loc[i]):\n",
    "                return gdf.name[i]    "
   ]
  },
  {
   "cell_type": "markdown",
   "metadata": {
    "_cell_guid": "e6ddc8b8-cb67-4e01-875f-f65832d6d2b7",
    "_uuid": "ad9aa74baa2ddfad4121a53a5b235cb768879e26"
   },
   "source": [
    "I'm taking a portion of the dataset for the obvious reason that the application of the function to the whole dataset will take hours. That is why I make the shuffle earlier to take a representative segment."
   ]
  },
  {
   "cell_type": "code",
   "execution_count": null,
   "metadata": {
    "_cell_guid": "ceb1d5c4-1a93-431d-b355-46b0e789c8ad",
    "_uuid": "0e10ed7fd38bae27526ee3cbee500efdd0058c73",
    "collapsed": true,
    "scrolled": true
   },
   "outputs": [],
   "source": [
    "import time\n",
    "\n",
    "start = time.clock()\n",
    "acc = accidents2.iloc[1:300000,:]\n",
    "acc['Area'] = acc.apply(lambda x: map_accidents_to_areas(x['Longitude'], x['Latitude']), axis=1)\n",
    "end = time.clock()\n",
    "print (\"%.2gs\" % (end-start))"
   ]
  },
  {
   "cell_type": "code",
   "execution_count": null,
   "metadata": {
    "_cell_guid": "edf1ad79-d2b1-4a9b-af6b-6b25cb7e5454",
    "_uuid": "36ba83528c45e1078c9c3a4f1685af0159724a9c",
    "collapsed": true
   },
   "outputs": [],
   "source": [
    "# create a new dataframe by grouping by 'Area' and counting the number of accidents\n",
    "acc_by_area = pd.DataFrame({'Total_accidents' : acc.groupby( [\"Area\"] ).size()}).reset_index()"
   ]
  },
  {
   "cell_type": "code",
   "execution_count": null,
   "metadata": {
    "_cell_guid": "283791d8-394b-44f7-ade7-e3ee062d0c4e",
    "_uuid": "ce9757eb7b8a0a5f048a91aced6d6d4d4e139b2a",
    "collapsed": true
   },
   "outputs": [],
   "source": [
    "# create a lookup function\n",
    "def find_total_accidents(area_name):\n",
    "    for i in range(len(acc_by_area.Area)):\n",
    "        if area_name == acc_by_area.Area.loc[i]:\n",
    "                return acc_by_area.Total_accidents[i]    "
   ]
  },
  {
   "cell_type": "code",
   "execution_count": null,
   "metadata": {
    "_cell_guid": "04e9dc2b-4b73-43a6-b076-0c69b187a2a1",
    "_uuid": "76aafab875a315aaddc2fe918ae172b9208e741c",
    "collapsed": true
   },
   "outputs": [],
   "source": [
    "# add a new column to the geopandas dataframe\n",
    "gdf['Total_accidents'] = gdf.name.apply(find_total_accidents)"
   ]
  },
  {
   "cell_type": "code",
   "execution_count": null,
   "metadata": {
    "_cell_guid": "f0714424-0368-4484-bd26-173c2662a8f4",
    "_uuid": "a91c5ebea775151c0e8a502895487cee39684508",
    "collapsed": true
   },
   "outputs": [],
   "source": [
    "import matplotlib.cm\n",
    "from matplotlib.colors import Normalize\n",
    "\n",
    "vmin, vmax = gdf['Total_accidents'].min(), gdf['Total_accidents'].max()\n",
    "\n",
    "# create a Choropleth map (map where the color of each shape is based on the value of an associated variable)\n",
    "ax = gdf.plot(column='Total_accidents', cmap='OrRd', edgecolor='black', figsize=(12,12), linewidth=1)\n",
    "fig = ax.get_figure()\n",
    "# create a ScalarMappable object and use the set_array() function to add the accidents counts to it\n",
    "sm = matplotlib.cm.ScalarMappable(cmap='OrRd', norm=Normalize(vmin=vmin, vmax=vmax))\n",
    "sm.set_array(gdf['Total_accidents'])\n",
    "# Then pass it to the colorbar() function and set the shrink argument to 0.4 in order to make the colorbar smaller than the map\n",
    "fig.colorbar(sm, shrink=0.4)"
   ]
  },
  {
   "cell_type": "markdown",
   "metadata": {
    "_cell_guid": "301a03dc-7fe1-41cc-9249-46cff53c78ed",
    "_uuid": "85ac4c399be2981d045f1b66a8ae33d822c0a57e"
   },
   "source": [
    "Et voilà!"
   ]
  }
 ],
 "metadata": {
  "kernelspec": {
   "display_name": "Python 3",
   "language": "python",
   "name": "python3"
  },
  "language_info": {
   "codemirror_mode": {
    "name": "ipython",
    "version": 3
   },
   "file_extension": ".py",
   "mimetype": "text/x-python",
   "name": "python",
   "nbconvert_exporter": "python",
   "pygments_lexer": "ipython3",
   "version": "3.5.2"
  }
 },
 "nbformat": 4,
 "nbformat_minor": 1
}
