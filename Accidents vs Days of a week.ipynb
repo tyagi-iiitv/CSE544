{
 "cells": [
  {
   "cell_type": "code",
   "execution_count": 1,
   "metadata": {},
   "outputs": [],
   "source": [
    "import numpy as np # linear algebra\n",
    "import pandas as pd # data processing, CSV file I/O (e.g. pd.read_csv)\n",
    "from scipy import stats\n",
    "import scipy\n",
    "\n",
    "# Any results you write to the current directory are saved as output.\n",
    "import warnings # current version of seaborn generates a bunch of warnings that we'll ignore\n",
    "warnings.filterwarnings(\"ignore\")\n",
    "import seaborn as sns\n",
    "import matplotlib.pyplot as plt\n",
    "%matplotlib inline\n",
    "sns.set(style=\"white\", color_codes=True)"
   ]
  },
  {
   "cell_type": "code",
   "execution_count": 3,
   "metadata": {},
   "outputs": [
    {
     "data": {
      "text/plain": [
       "Index(['Accident_Index', 'Location_Easting_OSGR', 'Location_Northing_OSGR',\n",
       "       'Longitude', 'Latitude', 'Police_Force', 'Accident_Severity',\n",
       "       'Number_of_Vehicles', 'Number_of_Casualties', 'Date', 'Day_of_Week',\n",
       "       'Time', 'Local_Authority_(District)', 'Local_Authority_(Highway)',\n",
       "       '1st_Road_Class', '1st_Road_Number', 'Road_Type', 'Speed_limit',\n",
       "       'Junction_Detail', 'Junction_Control', '2nd_Road_Class',\n",
       "       '2nd_Road_Number', 'Pedestrian_Crossing-Human_Control',\n",
       "       'Pedestrian_Crossing-Physical_Facilities', 'Light_Conditions',\n",
       "       'Weather_Conditions', 'Road_Surface_Conditions',\n",
       "       'Special_Conditions_at_Site', 'Carriageway_Hazards',\n",
       "       'Urban_or_Rural_Area', 'Did_Police_Officer_Attend_Scene_of_Accident',\n",
       "       'LSOA_of_Accident_Location'],\n",
       "      dtype='object')"
      ]
     },
     "execution_count": 3,
     "metadata": {},
     "output_type": "execute_result"
    }
   ],
   "source": [
    "data = pd.read_csv('data/Accidents0514.csv')\n",
    "data.columns"
   ]
  },
  {
   "cell_type": "code",
   "execution_count": 5,
   "metadata": {},
   "outputs": [
    {
     "name": "stdout",
     "output_type": "stream",
     "text": [
      "Mean = 234371.0\n",
      "Std = 26102.69382923642\n",
      "Var = 681350625.1428572\n",
      "Size = 7\n"
     ]
    },
    {
     "data": {
      "text/plain": [
       "<matplotlib.axes._subplots.AxesSubplot at 0x7f01fbc47b38>"
      ]
     },
     "execution_count": 5,
     "metadata": {},
     "output_type": "execute_result"
    },
    {
     "data": {
      "image/png": "[encoded data removed]",
      "text/plain": [
       "<Figure size 432x288 with 1 Axes>"
      ]
     },
     "metadata": {},
     "output_type": "display_data"
    }
   ],
   "source": [
    "subset_data = data[['Accident_Index','Day_of_Week']]\n",
    "accident_data_over_all_weeks = list(subset_data.groupby(['Day_of_Week']).count().Accident_Index)\n",
    "mean = np.mean(accident_data_over_all_weeks)\n",
    "std = np.std(accident_data_over_all_weeks)\n",
    "var = np.var(accident_data_over_all_weeks)\n",
    "print(\"Mean = \"+str(mean))\n",
    "print(\"Std = \"+str(std))\n",
    "print(\"Var = \"+str(var))\n",
    "\n",
    "standardized_accident_data_over_all_weeks = [(x-mean)/std for x in  accident_data_over_all_weeks]\n",
    "size = len(standardized_accident_data_over_all_weeks)\n",
    "print(\"Size = \"+str(size))\n",
    "\n",
    "sns.distplot(accident_data_over_all_weeks, axlabel='Distribution of accidents for different days of the week')\n",
    "#plt.plot(standardized_accident_data_over_all_weeks)\n",
    "#plt.show()\n"
   ]
  },
  {
   "cell_type": "code",
   "execution_count": 6,
   "metadata": {},
   "outputs": [
    {
     "name": "stdout",
     "output_type": "stream",
     "text": [
      "Null Hypothesis(H0): 'Total number of Accidents on each day in all the weeks over 10 years' follow a Normal Distribution.\n",
      "Alternate Hypothesis(H1): 'Total number of Accidents on each day in all the weeks over 10 years' do not follow a Normal Distribution.\n",
      "\n",
      "ks_test_statistic = 0.239370694203\n",
      "Critical value at α = 0.05 is 0.48343\n",
      "\n",
      "Null Hypothesis is accepted at α = 0.05\n",
      "Therefore, 'Total number of Accidents on each day in all the weeks over 10 years' follow a Normal Distribution.\n",
      "\n"
     ]
    }
   ],
   "source": [
    "print(\"Null Hypothesis(H0): 'Total number of Accidents on each day in all the weeks over 10 years' follow a Normal Distribution.\")\n",
    "print(\"Alternate Hypothesis(H1): 'Total number of Accidents on each day in all the weeks over 10 years' do not follow a Normal Distribution.\\n\")\n",
    "\n",
    "ks_test_statistic = scipy.stats.kstest(standardized_accident_data_over_all_weeks, 'norm')[0]\n",
    "print(\"ks_test_statistic = \"+str(ks_test_statistic))\n",
    "\n",
    "#from ks table the critical value Dn,α for D7,0.05=0.48343\n",
    "alpha = 0.05\n",
    "critical_value = 0.48343\n",
    "print(\"Critical value at α = 0.05 is \" + str(critical_value)+\"\\n\")\n",
    "\n",
    "if ks_test_statistic > critical_value:\n",
    "    print(\"Null Hypothesis is rejected at α = \"+str(alpha))\n",
    "    print(\"Therefore, 'Total number of Accidents on each day in all the weeks over 10 years' do not follow a Normal Distribution.\\n\")\n",
    "else:\n",
    "    print(\"Null Hypothesis is accepted at α = \"+str(alpha))\n",
    "    print(\"Therefore, 'Total number of Accidents on each day in all the weeks over 10 years' follow a Normal Distribution.\\n\")"
   ]
  },
  {
   "cell_type": "markdown",
   "metadata": {},
   "source": [
    "<p>Since Sample Mean and Sample Varience are the MME estimators of True Mean and True Varience for a Normal Distribution:</p>\n",
    "<p>$Mean_{MME}$ = 254379.0</p>\n",
    "<p>$Var_{MME}$ = 805859829.429</p>"
   ]
  }
 ],
 "metadata": {
  "kernelspec": {
   "display_name": "Python 3",
   "language": "python",
   "name": "python3"
  },
  "language_info": {
   "codemirror_mode": {
    "name": "ipython",
    "version": 3
   },
   "file_extension": ".py",
   "mimetype": "text/x-python",
   "name": "python",
   "nbconvert_exporter": "python",
   "pygments_lexer": "ipython3",
   "version": "3.5.2"
  }
 },
 "nbformat": 4,
 "nbformat_minor": 2
}
