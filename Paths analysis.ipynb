{
 "cells": [
  {
   "cell_type": "code",
   "execution_count": 1,
   "metadata": {},
   "outputs": [],
   "source": [
    "# This Python 3 environment comes with many helpful analytics libraries installed\n",
    "# It is defined by the kaggle/python docker image: https://github.com/kaggle/docker-python\n",
    "# For example, here's several helpful packages to load in \n",
    "\n",
    "import numpy as np # linear algebra\n",
    "import pandas as pd # data processing, CSV file I/O (e.g. pd.read_csv)\n",
    "from scipy import stats\n",
    "\n",
    "from subprocess import check_output\n",
    "\n",
    "# Any results you write to the current directory are saved as output.\n",
    "import warnings # current version of seaborn generates a bunch of warnings that we'll ignore\n",
    "warnings.filterwarnings(\"ignore\")\n",
    "import seaborn as sns\n",
    "import matplotlib.pyplot as plt\n",
    "sns.set(style=\"white\", color_codes=True)"
   ]
  },
  {
   "cell_type": "code",
   "execution_count": 4,
   "metadata": {},
   "outputs": [],
   "source": [
    "data = pd.read_csv('full_data_with_dates.csv')"
   ]
  },
  {
   "cell_type": "markdown",
   "metadata": {},
   "source": [
    "#### Getting data for Manchester"
   ]
  },
  {
   "cell_type": "code",
   "execution_count": 5,
   "metadata": {},
   "outputs": [],
   "source": [
    "small_data = data[['Latitude', 'Longitude', 'Date', 'Month']]"
   ]
  },
  {
   "cell_type": "code",
   "execution_count": 6,
   "metadata": {},
   "outputs": [],
   "source": [
    "factor_lat = 0.00898892564 # KMs in 1 degree lat\n",
    "factor_lon = 0.01424562303 # KMs in 1 degree lon"
   ]
  },
  {
   "cell_type": "code",
   "execution_count": 7,
   "metadata": {},
   "outputs": [],
   "source": [
    "lat_max = 53.483959 + 6*factor_lat\n",
    "lat_min = 53.483959 - 6*factor_lat\n",
    "lon_min = -2.244644 - 6*factor_lon\n",
    "lon_max = -2.244644 + 6*factor_lon"
   ]
  },
  {
   "cell_type": "code",
   "execution_count": 8,
   "metadata": {},
   "outputs": [],
   "source": [
    "manchester = small_data.loc[(small_data['Latitude'] < lat_max)&\n",
    "                          (small_data['Latitude'] > lat_min)&\n",
    "                          (small_data['Longitude'] < lon_max)&\n",
    "                          (small_data['Longitude'] > lon_min)]"
   ]
  },
  {
   "cell_type": "markdown",
   "metadata": {},
   "source": [
    "#### Getting data for Birmingham"
   ]
  },
  {
   "cell_type": "code",
   "execution_count": 9,
   "metadata": {},
   "outputs": [],
   "source": [
    "lat_max = 52.489471 + 6*factor_lat\n",
    "lat_min = 52.489471 - 6*factor_lat\n",
    "lon_min = -1.898575 - 6*factor_lon\n",
    "lon_max = -1.898575 + 6*factor_lon"
   ]
  },
  {
   "cell_type": "code",
   "execution_count": 10,
   "metadata": {},
   "outputs": [],
   "source": [
    "birmingham = small_data.loc[(small_data['Latitude'] < lat_max)&\n",
    "                          (small_data['Latitude'] > lat_min)&\n",
    "                          (small_data['Longitude'] < lon_max)&\n",
    "                          (small_data['Longitude'] > lon_min)]"
   ]
  },
  {
   "cell_type": "markdown",
   "metadata": {},
   "source": [
    "#### Getting data for Oxford"
   ]
  },
  {
   "cell_type": "code",
   "execution_count": 11,
   "metadata": {},
   "outputs": [],
   "source": [
    "lat_max = 51.752022 + 6*factor_lat\n",
    "lat_min = 51.752022 - 6*factor_lat\n",
    "lon_min = -1.257677 - 6*factor_lon\n",
    "lon_max = -1.257677 + 6*factor_lon"
   ]
  },
  {
   "cell_type": "code",
   "execution_count": 12,
   "metadata": {},
   "outputs": [],
   "source": [
    "oxford = small_data.loc[(small_data['Latitude'] < lat_max)&\n",
    "                          (small_data['Latitude'] > lat_min)&\n",
    "                          (small_data['Longitude'] < lon_max)&\n",
    "                          (small_data['Longitude'] > lon_min)]"
   ]
  },
  {
   "cell_type": "markdown",
   "metadata": {},
   "source": [
    "#### Getting data for Nottingham"
   ]
  },
  {
   "cell_type": "code",
   "execution_count": 13,
   "metadata": {},
   "outputs": [],
   "source": [
    "lat_max = 52.953548 + 6*factor_lat\n",
    "lat_min = 52.953548 - 6*factor_lat\n",
    "lon_min = -1.151851 - 6*factor_lon\n",
    "lon_max = -1.151851 + 6*factor_lon"
   ]
  },
  {
   "cell_type": "code",
   "execution_count": 14,
   "metadata": {},
   "outputs": [],
   "source": [
    "nottingham = small_data.loc[(small_data['Latitude'] < lat_max)&\n",
    "                          (small_data['Latitude'] > lat_min)&\n",
    "                          (small_data['Longitude'] < lon_max)&\n",
    "                          (small_data['Longitude'] > lon_min)]"
   ]
  },
  {
   "cell_type": "markdown",
   "metadata": {},
   "source": [
    "#### Getting data for Northampton"
   ]
  },
  {
   "cell_type": "code",
   "execution_count": 15,
   "metadata": {},
   "outputs": [],
   "source": [
    "lat_max = 52.240479 + 6*factor_lat\n",
    "lat_min = 52.240479 - 6*factor_lat\n",
    "lon_min = -0.902656 - 6*factor_lon\n",
    "lon_max = -0.902656 + 6*factor_lon"
   ]
  },
  {
   "cell_type": "code",
   "execution_count": 16,
   "metadata": {},
   "outputs": [],
   "source": [
    "northampton = small_data.loc[(small_data['Latitude'] < lat_max)&\n",
    "                          (small_data['Latitude'] > lat_min)&\n",
    "                          (small_data['Longitude'] < lon_max)&\n",
    "                          (small_data['Longitude'] > lon_min)]"
   ]
  },
  {
   "cell_type": "markdown",
   "metadata": {},
   "source": [
    "#### Getting data for London"
   ]
  },
  {
   "cell_type": "code",
   "execution_count": 17,
   "metadata": {},
   "outputs": [],
   "source": [
    "lat_max = 51.509865 + 6*factor_lat\n",
    "lat_min = 51.509865 - 6*factor_lat\n",
    "lon_min = -0.118092 - 6*factor_lon\n",
    "lon_max = -0.118092 + 6*factor_lon"
   ]
  },
  {
   "cell_type": "code",
   "execution_count": 18,
   "metadata": {},
   "outputs": [],
   "source": [
    "london = small_data.loc[(small_data['Latitude'] < lat_max)&\n",
    "                          (small_data['Latitude'] > lat_min)&\n",
    "                          (small_data['Longitude'] < lon_max)&\n",
    "                          (small_data['Longitude'] > lon_min)]"
   ]
  },
  {
   "cell_type": "markdown",
   "metadata": {},
   "source": [
    "#### Analysis for the Winter Season"
   ]
  },
  {
   "cell_type": "code",
   "execution_count": 19,
   "metadata": {},
   "outputs": [],
   "source": [
    "#manchester_winter = manchester[(manchester['Month']==12)|(manchester['Month']==1)|(manchester['Month']==2)]\n",
    "#london_winter = london[(london['Month']==12)|(london['Month']==1)|(london['Month']==2)]\n",
    "birmingham_winter = birmingham[(birmingham['Month']==12)|(birmingham['Month']==1)|(birmingham['Month']==2)]\n",
    "oxford_winter = oxford[(oxford['Month']==12)|(oxford['Month']==1)|(oxford['Month']==2)]\n",
    "nottingham_winter = nottingham[(nottingham['Month']==12)|(nottingham['Month']==1)|(nottingham['Month']==2)]\n",
    "northampton_winter = northampton[(northampton['Month']==12)|(northampton['Month']==1)|(northampton['Month']==2)]"
   ]
  },
  {
   "cell_type": "code",
   "execution_count": 20,
   "metadata": {},
   "outputs": [],
   "source": [
    "# path1 = pd.merge(manchester_winter, london_winter, on='Date', how='outer', suffixes=['ma','lo'])\n",
    "path1 = pd.merge(northampton_winter, nottingham_winter, on='Date', how='outer', suffixes=['ox','no'])\n",
    "# path1 = pd.merge(path1, oxford_winter, on='Date', how='outer', suffixes=['y','ox'])"
   ]
  },
  {
   "cell_type": "code",
   "execution_count": 21,
   "metadata": {},
   "outputs": [],
   "source": [
    "path1 = path1[['Date','Monthox']]"
   ]
  },
  {
   "cell_type": "code",
   "execution_count": 22,
   "metadata": {},
   "outputs": [],
   "source": [
    "# path2 = pd.merge(manchester_winter, london_winter, on='Date', how='outer', suffixes=['ma','lo'])\n",
    "path2 = pd.merge(oxford_winter, birmingham_winter, on='Date', how='outer', suffixes=['no','bi'])\n",
    "# path2 = pd.merge(path2, northampton_winter, on='Date', how='outer', suffixes=['y','no'])"
   ]
  },
  {
   "cell_type": "code",
   "execution_count": 23,
   "metadata": {},
   "outputs": [],
   "source": [
    "path2 = path2[['Date','Monthno']]"
   ]
  },
  {
   "cell_type": "code",
   "execution_count": 24,
   "metadata": {},
   "outputs": [],
   "source": [
    "path1_dist = list(path1.groupby(['Date']).count().Monthox)\n",
    "path2_dist = list(path2.groupby(['Date']).count().Monthno)"
   ]
  },
  {
   "cell_type": "code",
   "execution_count": 25,
   "metadata": {},
   "outputs": [],
   "source": [
    "path1_dist = list(filter(lambda a: a!=0, path1_dist))\n",
    "path2_dist = list(filter(lambda a: a!=0, path2_dist))"
   ]
  },
  {
   "cell_type": "code",
   "execution_count": 27,
   "metadata": {
    "scrolled": true
   },
   "outputs": [
    {
     "data": {
      "text/plain": [
       "<matplotlib.axes._subplots.AxesSubplot at 0x7fac26ffe3c8>"
      ]
     },
     "execution_count": 27,
     "metadata": {},
     "output_type": "execute_result"
    },
    {
     "data": {
      "image/png": "[encoded data removed]",
      "text/plain": [
       "<Figure size 432x288 with 1 Axes>"
      ]
     },
     "metadata": {},
     "output_type": "display_data"
    }
   ],
   "source": [
    "sns.distplot(path1_dist, axlabel='Distribution of Daily accidents on Path 1')"
   ]
  },
  {
   "cell_type": "code",
   "execution_count": 29,
   "metadata": {},
   "outputs": [
    {
     "data": {
      "text/plain": [
       "<matplotlib.axes._subplots.AxesSubplot at 0x7fac27dab2e8>"
      ]
     },
     "execution_count": 29,
     "metadata": {},
     "output_type": "execute_result"
    },
    {
     "data": {
      "image/png": "[encoded data removed]",
      "text/plain": [
       "<Figure size 432x288 with 1 Axes>"
      ]
     },
     "metadata": {},
     "output_type": "display_data"
    }
   ],
   "source": [
    "sns.distplot(path2_dist, axlabel='Distribution of Daily accidents on Path 2')"
   ]
  },
  {
   "cell_type": "markdown",
   "metadata": {},
   "source": [
    "#### Confidence Intervals test"
   ]
  },
  {
   "cell_type": "code",
   "execution_count": 33,
   "metadata": {},
   "outputs": [],
   "source": [
    "z_score = 1.645\n",
    "path1_var = np.var(path1_dist)\n",
    "path2_var = np.var(path2_dist)\n",
    "ci_max = (np.mean(path1_dist) - np.mean(path2_dist)) + (z_score*np.sqrt(path1_var+path2_var))\n",
    "ci_min = (np.mean(path1_dist) - np.mean(path2_dist)) - (z_score*np.sqrt(path1_var+path2_var))"
   ]
  },
  {
   "cell_type": "code",
   "execution_count": 34,
   "metadata": {},
   "outputs": [
    {
     "data": {
      "text/plain": [
       "13.894283669106718"
      ]
     },
     "execution_count": 34,
     "metadata": {},
     "output_type": "execute_result"
    }
   ],
   "source": [
    "ci_max"
   ]
  },
  {
   "cell_type": "code",
   "execution_count": 35,
   "metadata": {},
   "outputs": [
    {
     "data": {
      "text/plain": [
       "-27.91454193112864"
      ]
     },
     "execution_count": 35,
     "metadata": {},
     "output_type": "execute_result"
    }
   ],
   "source": [
    "ci_min"
   ]
  },
  {
   "cell_type": "markdown",
   "metadata": {},
   "source": [
    "Wald's test"
   ]
  },
  {
   "cell_type": "code",
   "execution_count": 36,
   "metadata": {},
   "outputs": [
    {
     "data": {
      "text/plain": [
       "-0.551637710696572"
      ]
     },
     "execution_count": 36,
     "metadata": {},
     "output_type": "execute_result"
    }
   ],
   "source": [
    "statistic = (np.mean(path1_dist) - np.mean(path2_dist))/(np.sqrt(path1_var+path2_var))\n",
    "statistic"
   ]
  },
  {
   "cell_type": "markdown",
   "metadata": {},
   "source": [
    "since the statistic for right tailed test is less than 1.64, we accept the Null Hypothesis"
   ]
  },
  {
   "cell_type": "markdown",
   "metadata": {},
   "source": [
    "P value"
   ]
  },
  {
   "cell_type": "code",
   "execution_count": 37,
   "metadata": {},
   "outputs": [
    {
     "data": {
      "text/plain": [
       "0.2905982970909463"
      ]
     },
     "execution_count": 37,
     "metadata": {},
     "output_type": "execute_result"
    }
   ],
   "source": [
    "p_value = stats.norm.cdf(statistic)\n",
    "p_value"
   ]
  },
  {
   "cell_type": "markdown",
   "metadata": {},
   "source": [
    "Since P value is greater than 0.05, hence we accept the null hypothesis"
   ]
  },
  {
   "cell_type": "code",
   "execution_count": 38,
   "metadata": {},
   "outputs": [
    {
     "data": {
      "text/plain": [
       "Ks_2sampResult(statistic=0.3413239780980656, pvalue=1.8900490744127683e-32)"
      ]
     },
     "execution_count": 38,
     "metadata": {},
     "output_type": "execute_result"
    }
   ],
   "source": [
    "stats.ks_2samp(path1_dist, path2_dist)"
   ]
  },
  {
   "cell_type": "markdown",
   "metadata": {},
   "source": [
    "Permutation test"
   ]
  },
  {
   "cell_type": "code",
   "execution_count": 40,
   "metadata": {},
   "outputs": [
    {
     "data": {
      "text/plain": [
       "1.0"
      ]
     },
     "execution_count": 40,
     "metadata": {},
     "output_type": "execute_result"
    }
   ],
   "source": [
    "def run_permutation_test(pooled,sizeZ,sizeY,delta):\n",
    "    np.random.shuffle(pooled)\n",
    "    starZ = pooled[:sizeZ]\n",
    "    starY = pooled[-sizeY:]\n",
    "    return starZ.mean() - starY.mean()\n",
    "pooled = np.hstack([path1_dist, path2_dist])\n",
    "delta = np.mean(path1_dist) - np.mean(path2_dist)\n",
    "numSamples = 10000\n",
    "estimates = list(map(lambda x: run_permutation_test(pooled,len(path1_dist),len(path2_dist),delta),range(numSamples)))\n",
    "diffCount = len(np.where(estimates <= delta)[0])\n",
    "hat_asl_perm = 1.0 - (float(diffCount)/float(numSamples))\n",
    "hat_asl_perm"
   ]
  },
  {
   "cell_type": "code",
   "execution_count": null,
   "metadata": {},
   "outputs": [],
   "source": []
  },
  {
   "cell_type": "markdown",
   "metadata": {},
   "source": [
    "#### Analysis for the Summer Season"
   ]
  },
  {
   "cell_type": "code",
   "execution_count": 41,
   "metadata": {},
   "outputs": [],
   "source": [
    "# manchester_winter = manchester[(manchester['Month']==6)|(manchester['Month']==7)|(manchester['Month']==8)]\n",
    "# london_winter = london[(london['Month']==6)|(london['Month']==7)|(london['Month']==8)]\n",
    "birmingham_winter = birmingham[(birmingham['Month']==6)|(birmingham['Month']==7)|(birmingham['Month']==8)]\n",
    "oxford_winter = oxford[(oxford['Month']==6)|(oxford['Month']==7)|(oxford['Month']==8)]\n",
    "nottingham_winter = nottingham[(nottingham['Month']==6)|(nottingham['Month']==7)|(nottingham['Month']==8)]\n",
    "northampton_winter = northampton[(northampton['Month']==6)|(northampton['Month']==7)|(northampton['Month']==8)]"
   ]
  },
  {
   "cell_type": "code",
   "execution_count": 42,
   "metadata": {},
   "outputs": [],
   "source": [
    "path1 = pd.merge(northampton_winter, nottingham_winter, on='Date', how='outer', suffixes=['ox','no'])"
   ]
  },
  {
   "cell_type": "code",
   "execution_count": 43,
   "metadata": {},
   "outputs": [],
   "source": [
    "path1 = path1[['Date','Monthox']]"
   ]
  },
  {
   "cell_type": "code",
   "execution_count": 44,
   "metadata": {},
   "outputs": [],
   "source": [
    "path2 = pd.merge(oxford_winter, birmingham_winter, on='Date', how='outer', suffixes=['no','bi'])"
   ]
  },
  {
   "cell_type": "code",
   "execution_count": 45,
   "metadata": {
    "scrolled": true
   },
   "outputs": [],
   "source": [
    "path2 = path2[['Date','Monthno']]"
   ]
  },
  {
   "cell_type": "code",
   "execution_count": 46,
   "metadata": {},
   "outputs": [],
   "source": [
    "path1_dist = list(path1.groupby(['Date']).count().Monthox)\n",
    "path2_dist = list(path2.groupby(['Date']).count().Monthno)"
   ]
  },
  {
   "cell_type": "code",
   "execution_count": 47,
   "metadata": {},
   "outputs": [],
   "source": [
    "path1_dist = list(filter(lambda a: a!=0, path1_dist))\n",
    "path2_dist = list(filter(lambda a: a!=0, path2_dist))"
   ]
  },
  {
   "cell_type": "markdown",
   "metadata": {},
   "source": [
    "#### Confidence Intervals test"
   ]
  },
  {
   "cell_type": "code",
   "execution_count": null,
   "metadata": {},
   "outputs": [],
   "source": []
  },
  {
   "cell_type": "code",
   "execution_count": 48,
   "metadata": {
    "scrolled": true
   },
   "outputs": [
    {
     "data": {
      "text/plain": [
       "<matplotlib.axes._subplots.AxesSubplot at 0x7fac1dca0128>"
      ]
     },
     "execution_count": 48,
     "metadata": {},
     "output_type": "execute_result"
    },
    {
     "data": {
      "image/png": "[encoded data removed]",
      "text/plain": [
       "<Figure size 432x288 with 1 Axes>"
      ]
     },
     "metadata": {},
     "output_type": "display_data"
    }
   ],
   "source": [
    "sns.distplot(path1_dist, axlabel='Distribution of Daily accidents on Path 1')"
   ]
  },
  {
   "cell_type": "code",
   "execution_count": 49,
   "metadata": {},
   "outputs": [
    {
     "data": {
      "text/plain": [
       "<matplotlib.axes._subplots.AxesSubplot at 0x7fac1dcab908>"
      ]
     },
     "execution_count": 49,
     "metadata": {},
     "output_type": "execute_result"
    },
    {
     "data": {
      "image/png": "[encoded data removed]",
      "text/plain": [
       "<Figure size 432x288 with 1 Axes>"
      ]
     },
     "metadata": {},
     "output_type": "display_data"
    }
   ],
   "source": [
    "sns.distplot(path2_dist, axlabel='Distribution of Daily accidents on Path 2')"
   ]
  },
  {
   "cell_type": "markdown",
   "metadata": {},
   "source": [
    "#### Confidence Intervals test"
   ]
  },
  {
   "cell_type": "code",
   "execution_count": 54,
   "metadata": {},
   "outputs": [],
   "source": [
    "z_score = 1.645\n",
    "path1_var = np.var(path1_dist)\n",
    "path2_var = np.var(path2_dist)\n",
    "ci_max = (np.mean(path1_dist) - np.mean(path2_dist)) + (z_score*np.sqrt(path1_var/len(path1_dist)+path2_var/len(path2_dist)))\n",
    "ci_min = (np.mean(path1_dist) - np.mean(path2_dist)) - (z_score*np.sqrt(path1_var/len(path1_dist)+path2_var/len(path2_dist)))"
   ]
  },
  {
   "cell_type": "code",
   "execution_count": 55,
   "metadata": {},
   "outputs": [
    {
     "data": {
      "text/plain": [
       "-5.973369866756846"
      ]
     },
     "execution_count": 55,
     "metadata": {},
     "output_type": "execute_result"
    }
   ],
   "source": [
    "ci_max"
   ]
  },
  {
   "cell_type": "code",
   "execution_count": 56,
   "metadata": {},
   "outputs": [
    {
     "data": {
      "text/plain": [
       "-7.612742130500596"
      ]
     },
     "execution_count": 56,
     "metadata": {},
     "output_type": "execute_result"
    }
   ],
   "source": [
    "ci_min"
   ]
  },
  {
   "cell_type": "markdown",
   "metadata": {},
   "source": [
    "Since the confidence interval doesn't contain a zero and is negative, hence path1 has lesser number of accidents than path2 during summer\n",
    "\n",
    "Wald's test"
   ]
  },
  {
   "cell_type": "code",
   "execution_count": 58,
   "metadata": {},
   "outputs": [
    {
     "data": {
      "text/plain": [
       "-13.632751224209978"
      ]
     },
     "execution_count": 58,
     "metadata": {},
     "output_type": "execute_result"
    }
   ],
   "source": [
    "statistic = (np.mean(path1_dist) - np.mean(path2_dist))/(np.sqrt(path1_var/len(path1_dist)+path2_var/len(path2_dist)))\n",
    "statistic"
   ]
  },
  {
   "cell_type": "markdown",
   "metadata": {},
   "source": [
    "since the statistic for right tailed test is less than 1.64, we accept the Null Hypothesis"
   ]
  },
  {
   "cell_type": "markdown",
   "metadata": {},
   "source": [
    "P value"
   ]
  },
  {
   "cell_type": "code",
   "execution_count": 59,
   "metadata": {},
   "outputs": [
    {
     "data": {
      "text/plain": [
       "1.2787681413474255e-42"
      ]
     },
     "execution_count": 59,
     "metadata": {},
     "output_type": "execute_result"
    }
   ],
   "source": [
    "p_value = stats.norm.cdf(statistic)\n",
    "p_value"
   ]
  },
  {
   "cell_type": "code",
   "execution_count": 60,
   "metadata": {},
   "outputs": [
    {
     "data": {
      "text/plain": [
       "Ks_2sampResult(statistic=0.3616913385676807, pvalue=9.626915702364944e-38)"
      ]
     },
     "execution_count": 60,
     "metadata": {},
     "output_type": "execute_result"
    }
   ],
   "source": [
    "stats.ks_2samp(path1_dist, path2_dist)"
   ]
  },
  {
   "cell_type": "markdown",
   "metadata": {},
   "source": [
    "Permutation test"
   ]
  },
  {
   "cell_type": "code",
   "execution_count": 61,
   "metadata": {},
   "outputs": [
    {
     "data": {
      "text/plain": [
       "1.0"
      ]
     },
     "execution_count": 61,
     "metadata": {},
     "output_type": "execute_result"
    }
   ],
   "source": [
    "def run_permutation_test(pooled,sizeZ,sizeY,delta):\n",
    "    np.random.shuffle(pooled)\n",
    "    starZ = pooled[:sizeZ]\n",
    "    starY = pooled[-sizeY:]\n",
    "    return starZ.mean() - starY.mean()\n",
    "pooled = np.hstack([path1_dist, path2_dist])\n",
    "delta = np.mean(path1_dist) - np.mean(path2_dist)\n",
    "numSamples = 10000\n",
    "estimates = list(map(lambda x: run_permutation_test(pooled,len(path1_dist),len(path2_dist),delta),range(numSamples)))\n",
    "diffCount = len(np.where(estimates <= delta)[0])\n",
    "hat_asl_perm = 1.0 - (float(diffCount)/float(numSamples))\n",
    "hat_asl_perm"
   ]
  },
  {
   "cell_type": "code",
   "execution_count": null,
   "metadata": {},
   "outputs": [],
   "source": []
  },
  {
   "cell_type": "code",
   "execution_count": null,
   "metadata": {},
   "outputs": [],
   "source": []
  },
  {
   "cell_type": "code",
   "execution_count": null,
   "metadata": {},
   "outputs": [],
   "source": []
  },
  {
   "cell_type": "code",
   "execution_count": null,
   "metadata": {},
   "outputs": [],
   "source": []
  },
  {
   "cell_type": "code",
   "execution_count": null,
   "metadata": {},
   "outputs": [],
   "source": []
  }
 ],
 "metadata": {
  "kernelspec": {
   "display_name": "Python 3",
   "language": "python",
   "name": "python3"
  },
  "language_info": {
   "codemirror_mode": {
    "name": "ipython",
    "version": 3
   },
   "file_extension": ".py",
   "mimetype": "text/x-python",
   "name": "python",
   "nbconvert_exporter": "python",
   "pygments_lexer": "ipython3",
   "version": "3.5.2"
  }
 },
 "nbformat": 4,
 "nbformat_minor": 2
}
