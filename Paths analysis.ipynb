{
 "cells": [
  {
   "cell_type": "code",
   "execution_count": 1,
   "metadata": {},
   "outputs": [],
   "source": [
    "# This Python 3 environment comes with many helpful analytics libraries installed\n",
    "# It is defined by the kaggle/python docker image: https://github.com/kaggle/docker-python\n",
    "# For example, here's several helpful packages to load in \n",
    "\n",
    "import numpy as np # linear algebra\n",
    "import pandas as pd # data processing, CSV file I/O (e.g. pd.read_csv)\n",
    "from scipy import stats\n",
    "\n",
    "from subprocess import check_output\n",
    "\n",
    "# Any results you write to the current directory are saved as output.\n",
    "import warnings # current version of seaborn generates a bunch of warnings that we'll ignore\n",
    "warnings.filterwarnings(\"ignore\")\n",
    "import seaborn as sns\n",
    "import matplotlib.pyplot as plt\n",
    "sns.set(style=\"white\", color_codes=True)"
   ]
  },
  {
   "cell_type": "code",
   "execution_count": 2,
   "metadata": {},
   "outputs": [],
   "source": [
    "data = pd.read_csv('full_data2.csv')"
   ]
  },
  {
   "cell_type": "markdown",
   "metadata": {},
   "source": [
    "#### Getting data for Manchester"
   ]
  },
  {
   "cell_type": "code",
   "execution_count": 3,
   "metadata": {},
   "outputs": [],
   "source": [
    "small_data = data[['Latitude', 'Longitude', 'Date', 'Month']]"
   ]
  },
  {
   "cell_type": "code",
   "execution_count": 4,
   "metadata": {},
   "outputs": [],
   "source": [
    "factor_lat = 0.00898892564 # KMs in 1 degree lat\n",
    "factor_lon = 0.01424562303 # KMs in 1 degree lon"
   ]
  },
  {
   "cell_type": "code",
   "execution_count": 5,
   "metadata": {},
   "outputs": [],
   "source": [
    "lat_max = 53.483959 + 6*factor_lat\n",
    "lat_min = 53.483959 - 6*factor_lat\n",
    "lon_min = -2.244644 - 6*factor_lon\n",
    "lon_max = -2.244644 + 6*factor_lon"
   ]
  },
  {
   "cell_type": "code",
   "execution_count": 6,
   "metadata": {},
   "outputs": [],
   "source": [
    "manchester = small_data.loc[(small_data['Latitude'] < lat_max)&\n",
    "                          (small_data['Latitude'] > lat_min)&\n",
    "                          (small_data['Longitude'] < lon_max)&\n",
    "                          (small_data['Longitude'] > lon_min)]"
   ]
  },
  {
   "cell_type": "markdown",
   "metadata": {},
   "source": [
    "#### Getting data for Birmingham"
   ]
  },
  {
   "cell_type": "code",
   "execution_count": 7,
   "metadata": {},
   "outputs": [],
   "source": [
    "lat_max = 52.489471 + 6*factor_lat\n",
    "lat_min = 52.489471 - 6*factor_lat\n",
    "lon_min = -1.898575 - 6*factor_lon\n",
    "lon_max = -1.898575 + 6*factor_lon"
   ]
  },
  {
   "cell_type": "code",
   "execution_count": 8,
   "metadata": {},
   "outputs": [],
   "source": [
    "birmingham = small_data.loc[(small_data['Latitude'] < lat_max)&\n",
    "                          (small_data['Latitude'] > lat_min)&\n",
    "                          (small_data['Longitude'] < lon_max)&\n",
    "                          (small_data['Longitude'] > lon_min)]"
   ]
  },
  {
   "cell_type": "markdown",
   "metadata": {},
   "source": [
    "#### Getting data for Oxford"
   ]
  },
  {
   "cell_type": "code",
   "execution_count": 9,
   "metadata": {},
   "outputs": [],
   "source": [
    "lat_max = 51.752022 + 6*factor_lat\n",
    "lat_min = 51.752022 - 6*factor_lat\n",
    "lon_min = -1.257677 - 6*factor_lon\n",
    "lon_max = -1.257677 + 6*factor_lon"
   ]
  },
  {
   "cell_type": "code",
   "execution_count": 10,
   "metadata": {},
   "outputs": [],
   "source": [
    "oxford = small_data.loc[(small_data['Latitude'] < lat_max)&\n",
    "                          (small_data['Latitude'] > lat_min)&\n",
    "                          (small_data['Longitude'] < lon_max)&\n",
    "                          (small_data['Longitude'] > lon_min)]"
   ]
  },
  {
   "cell_type": "markdown",
   "metadata": {},
   "source": [
    "#### Getting data for Nottingham"
   ]
  },
  {
   "cell_type": "code",
   "execution_count": 11,
   "metadata": {},
   "outputs": [],
   "source": [
    "lat_max = 52.953548 + 6*factor_lat\n",
    "lat_min = 52.953548 - 6*factor_lat\n",
    "lon_min = -1.151851 - 6*factor_lon\n",
    "lon_max = -1.151851 + 6*factor_lon"
   ]
  },
  {
   "cell_type": "code",
   "execution_count": 12,
   "metadata": {},
   "outputs": [],
   "source": [
    "nottingham = small_data.loc[(small_data['Latitude'] < lat_max)&\n",
    "                          (small_data['Latitude'] > lat_min)&\n",
    "                          (small_data['Longitude'] < lon_max)&\n",
    "                          (small_data['Longitude'] > lon_min)]"
   ]
  },
  {
   "cell_type": "markdown",
   "metadata": {},
   "source": [
    "#### Getting data for Northampton"
   ]
  },
  {
   "cell_type": "code",
   "execution_count": 13,
   "metadata": {},
   "outputs": [],
   "source": [
    "lat_max = 52.240479 + 6*factor_lat\n",
    "lat_min = 52.240479 - 6*factor_lat\n",
    "lon_min = -0.902656 - 6*factor_lon\n",
    "lon_max = -0.902656 + 6*factor_lon"
   ]
  },
  {
   "cell_type": "code",
   "execution_count": 14,
   "metadata": {},
   "outputs": [],
   "source": [
    "northampton = small_data.loc[(small_data['Latitude'] < lat_max)&\n",
    "                          (small_data['Latitude'] > lat_min)&\n",
    "                          (small_data['Longitude'] < lon_max)&\n",
    "                          (small_data['Longitude'] > lon_min)]"
   ]
  },
  {
   "cell_type": "markdown",
   "metadata": {},
   "source": [
    "#### Getting data for London"
   ]
  },
  {
   "cell_type": "code",
   "execution_count": 15,
   "metadata": {},
   "outputs": [],
   "source": [
    "lat_max = 51.509865 + 6*factor_lat\n",
    "lat_min = 51.509865 - 6*factor_lat\n",
    "lon_min = -0.118092 - 6*factor_lon\n",
    "lon_max = -0.118092 + 6*factor_lon"
   ]
  },
  {
   "cell_type": "code",
   "execution_count": 16,
   "metadata": {},
   "outputs": [],
   "source": [
    "london = small_data.loc[(small_data['Latitude'] < lat_max)&\n",
    "                          (small_data['Latitude'] > lat_min)&\n",
    "                          (small_data['Longitude'] < lon_max)&\n",
    "                          (small_data['Longitude'] > lon_min)]"
   ]
  },
  {
   "cell_type": "markdown",
   "metadata": {},
   "source": [
    "#### Analysis for the Winter Season"
   ]
  },
  {
   "cell_type": "code",
   "execution_count": 61,
   "metadata": {},
   "outputs": [],
   "source": [
    "#manchester_winter = manchester[(manchester['Month']==12)|(manchester['Month']==1)|(manchester['Month']==2)]\n",
    "#london_winter = london[(london['Month']==12)|(london['Month']==1)|(london['Month']==2)]\n",
    "birmingham_winter = birmingham[(birmingham['Month']==12)|(birmingham['Month']==1)|(birmingham['Month']==2)]\n",
    "oxford_winter = oxford[(oxford['Month']==12)|(oxford['Month']==1)|(oxford['Month']==2)]\n",
    "nottingham_winter = nottingham[(nottingham['Month']==12)|(nottingham['Month']==1)|(nottingham['Month']==2)]\n",
    "northampton_winter = northampton[(northampton['Month']==12)|(northampton['Month']==1)|(northampton['Month']==2)]"
   ]
  },
  {
   "cell_type": "code",
   "execution_count": 62,
   "metadata": {},
   "outputs": [],
   "source": [
    "# path1 = pd.merge(manchester_winter, london_winter, on='Date', how='outer', suffixes=['ma','lo'])\n",
    "path1 = pd.merge(northampton_winter, nottingham_winter, on='Date', how='outer', suffixes=['ox','no'])\n",
    "# path1 = pd.merge(path1, oxford_winter, on='Date', how='outer', suffixes=['y','ox'])"
   ]
  },
  {
   "cell_type": "code",
   "execution_count": 63,
   "metadata": {},
   "outputs": [],
   "source": [
    "path1 = path1[['Date','Monthox']]"
   ]
  },
  {
   "cell_type": "code",
   "execution_count": 64,
   "metadata": {},
   "outputs": [],
   "source": [
    "# path2 = pd.merge(manchester_winter, london_winter, on='Date', how='outer', suffixes=['ma','lo'])\n",
    "path2 = pd.merge(oxford_winter, birmingham_winter, on='Date', how='outer', suffixes=['no','bi'])\n",
    "# path2 = pd.merge(path2, northampton_winter, on='Date', how='outer', suffixes=['y','no'])"
   ]
  },
  {
   "cell_type": "code",
   "execution_count": 65,
   "metadata": {},
   "outputs": [],
   "source": [
    "path2 = path2[['Date','Monthno']]"
   ]
  },
  {
   "cell_type": "code",
   "execution_count": 68,
   "metadata": {},
   "outputs": [],
   "source": [
    "path1_dist = list(path1.groupby(['Date']).count().Monthox)\n",
    "path2_dist = list(path2.groupby(['Date']).count().Monthno)"
   ]
  },
  {
   "cell_type": "code",
   "execution_count": 69,
   "metadata": {},
   "outputs": [],
   "source": [
    "path1_dist = list(filter(lambda a: a!=0, path1_dist))\n",
    "path2_dist = list(filter(lambda a: a!=0, path2_dist))"
   ]
  },
  {
   "cell_type": "markdown",
   "metadata": {},
   "source": [
    "#### Confidence Intervals test"
   ]
  },
  {
   "cell_type": "code",
   "execution_count": 70,
   "metadata": {},
   "outputs": [],
   "source": [
    "z_score = 1.645\n",
    "path1_var = np.var(path1_dist)\n",
    "path2_var = np.var(path2_dist)\n",
    "ci_max = (np.mean(path1_dist) - np.mean(path2_dist)) + (z_score*np.sqrt(path1_var/len(path1_dist)+path2_var/len(path2_dist)))\n",
    "ci_min = (np.mean(path1_dist) - np.mean(path2_dist)) - (z_score*np.sqrt(path1_var/len(path1_dist)+path2_var/len(path2_dist)))"
   ]
  },
  {
   "cell_type": "code",
   "execution_count": 71,
   "metadata": {},
   "outputs": [
    {
     "data": {
      "text/plain": [
       "-39.56105521077182"
      ]
     },
     "execution_count": 71,
     "metadata": {},
     "output_type": "execute_result"
    }
   ],
   "source": [
    "ci_max"
   ]
  },
  {
   "cell_type": "code",
   "execution_count": 72,
   "metadata": {},
   "outputs": [
    {
     "data": {
      "text/plain": [
       "-56.343848069381856"
      ]
     },
     "execution_count": 72,
     "metadata": {},
     "output_type": "execute_result"
    }
   ],
   "source": [
    "ci_min"
   ]
  },
  {
   "cell_type": "markdown",
   "metadata": {},
   "source": [
    "#### Analysis for the Summer Season"
   ]
  },
  {
   "cell_type": "code",
   "execution_count": 73,
   "metadata": {},
   "outputs": [],
   "source": [
    "# manchester_winter = manchester[(manchester['Month']==6)|(manchester['Month']==7)|(manchester['Month']==8)]\n",
    "# london_winter = london[(london['Month']==6)|(london['Month']==7)|(london['Month']==8)]\n",
    "birmingham_winter = birmingham[(birmingham['Month']==6)|(birmingham['Month']==7)|(birmingham['Month']==8)]\n",
    "oxford_winter = oxford[(oxford['Month']==6)|(oxford['Month']==7)|(oxford['Month']==8)]\n",
    "nottingham_winter = nottingham[(nottingham['Month']==6)|(nottingham['Month']==7)|(nottingham['Month']==8)]\n",
    "northampton_winter = northampton[(northampton['Month']==6)|(northampton['Month']==7)|(northampton['Month']==8)]"
   ]
  },
  {
   "cell_type": "code",
   "execution_count": 74,
   "metadata": {},
   "outputs": [],
   "source": [
    "path1 = pd.merge(northampton_winter, nottingham_winter, on='Date', how='outer', suffixes=['ox','no'])"
   ]
  },
  {
   "cell_type": "code",
   "execution_count": 75,
   "metadata": {},
   "outputs": [],
   "source": [
    "path1 = path1[['Date','Monthox']]"
   ]
  },
  {
   "cell_type": "code",
   "execution_count": 76,
   "metadata": {},
   "outputs": [],
   "source": [
    "path2 = pd.merge(oxford_winter, birmingham_winter, on='Date', how='outer', suffixes=['no','bi'])"
   ]
  },
  {
   "cell_type": "code",
   "execution_count": 77,
   "metadata": {
    "scrolled": true
   },
   "outputs": [],
   "source": [
    "path2 = path2[['Date','Monthno']]"
   ]
  },
  {
   "cell_type": "code",
   "execution_count": 78,
   "metadata": {},
   "outputs": [],
   "source": [
    "path1_dist = list(path1.groupby(['Date']).count().Monthox)\n",
    "path2_dist = list(path2.groupby(['Date']).count().Monthno)"
   ]
  },
  {
   "cell_type": "code",
   "execution_count": 79,
   "metadata": {},
   "outputs": [],
   "source": [
    "path1_dist = list(filter(lambda a: a!=0, path1_dist))\n",
    "path2_dist = list(filter(lambda a: a!=0, path2_dist))"
   ]
  },
  {
   "cell_type": "markdown",
   "metadata": {},
   "source": [
    "#### Confidence Intervals test"
   ]
  },
  {
   "cell_type": "code",
   "execution_count": 80,
   "metadata": {},
   "outputs": [
    {
     "data": {
      "text/plain": [
       "(28835, 2)"
      ]
     },
     "execution_count": 80,
     "metadata": {},
     "output_type": "execute_result"
    }
   ],
   "source": [
    "path1.shape"
   ]
  },
  {
   "cell_type": "code",
   "execution_count": 81,
   "metadata": {},
   "outputs": [],
   "source": [
    "z_score = 1.645\n",
    "path1_var = np.var(path1_dist)\n",
    "path2_var = np.var(path2_dist)\n",
    "ci_max = (np.mean(path1_dist) - np.mean(path2_dist)) + (z_score*np.sqrt(path1_var/len(path1_dist)+path2_var/len(path2_dist)))\n",
    "ci_min = (np.mean(path1_dist) - np.mean(path2_dist)) - (z_score*np.sqrt(path1_var/len(path1_dist)+path2_var/len(path2_dist)))"
   ]
  },
  {
   "cell_type": "code",
   "execution_count": 82,
   "metadata": {},
   "outputs": [
    {
     "data": {
      "text/plain": [
       "-36.13643181028687"
      ]
     },
     "execution_count": 82,
     "metadata": {},
     "output_type": "execute_result"
    }
   ],
   "source": [
    "ci_max"
   ]
  },
  {
   "cell_type": "code",
   "execution_count": 83,
   "metadata": {},
   "outputs": [
    {
     "data": {
      "text/plain": [
       "-49.79885622959447"
      ]
     },
     "execution_count": 83,
     "metadata": {},
     "output_type": "execute_result"
    }
   ],
   "source": [
    "ci_min"
   ]
  },
  {
   "cell_type": "code",
   "execution_count": null,
   "metadata": {},
   "outputs": [],
   "source": []
  },
  {
   "cell_type": "code",
   "execution_count": null,
   "metadata": {},
   "outputs": [],
   "source": []
  },
  {
   "cell_type": "code",
   "execution_count": null,
   "metadata": {},
   "outputs": [],
   "source": []
  },
  {
   "cell_type": "code",
   "execution_count": null,
   "metadata": {},
   "outputs": [],
   "source": []
  },
  {
   "cell_type": "code",
   "execution_count": null,
   "metadata": {},
   "outputs": [],
   "source": []
  },
  {
   "cell_type": "code",
   "execution_count": null,
   "metadata": {},
   "outputs": [],
   "source": []
  },
  {
   "cell_type": "code",
   "execution_count": null,
   "metadata": {},
   "outputs": [],
   "source": []
  },
  {
   "cell_type": "code",
   "execution_count": null,
   "metadata": {},
   "outputs": [],
   "source": []
  },
  {
   "cell_type": "code",
   "execution_count": null,
   "metadata": {},
   "outputs": [],
   "source": [
    "from sklearn.utils import shuffle\n",
    "\n",
    "data_new = shuffle(data)"
   ]
  },
  {
   "cell_type": "code",
   "execution_count": null,
   "metadata": {},
   "outputs": [],
   "source": [
    "import shapefile\n",
    "\n",
    "data_in_shapefile = shapefile.Reader('Distribution/Areas')"
   ]
  },
  {
   "cell_type": "code",
   "execution_count": null,
   "metadata": {},
   "outputs": [],
   "source": [
    "from shapely.geometry import shape\n",
    "\n",
    "attributes, geometry = [], []\n",
    "field_names = [field[0] for field in data_in_shapefile.fields[1:]]\n",
    "for row in data_in_shapefile.shapeRecords():\n",
    "    geometry.append(shape(row.shape.__geo_interface__))\n",
    "    attributes.append(dict(zip(field_names, row.record)))"
   ]
  },
  {
   "cell_type": "code",
   "execution_count": null,
   "metadata": {},
   "outputs": [],
   "source": [
    "import geopandas as gpd\n",
    "\n",
    "gdf = gpd.GeoDataFrame(data=attributes, geometry=geometry)"
   ]
  },
  {
   "cell_type": "code",
   "execution_count": null,
   "metadata": {},
   "outputs": [],
   "source": [
    "from shapely.geometry import Point\n",
    "\n",
    "def map_accidents_to_areas(longitude, latitude):       \n",
    "        point = (float(longitude),float(latitude))\n",
    "        for i in range(len(gdf.geometry)):            \n",
    "            if Point(point).within(gdf.geometry.loc[i]):\n",
    "                return gdf.name[i]    "
   ]
  },
  {
   "cell_type": "code",
   "execution_count": null,
   "metadata": {},
   "outputs": [],
   "source": [
    "acc = data_new.iloc[1:30000]\n",
    "acc['Area'] = acc.apply(lambda x: map_accidents_to_areas(x['Longitude'], x['Latitude']), axis=1)"
   ]
  },
  {
   "cell_type": "code",
   "execution_count": null,
   "metadata": {},
   "outputs": [],
   "source": [
    "acc_by_area = pd.DataFrame({'Total_accidents': acc.groupby([\"Area\"]).size()}).reset_index()"
   ]
  },
  {
   "cell_type": "code",
   "execution_count": null,
   "metadata": {},
   "outputs": [],
   "source": [
    "acc_by_area[acc_by_area['Area'].str.startswith('L')]"
   ]
  },
  {
   "cell_type": "code",
   "execution_count": null,
   "metadata": {},
   "outputs": [],
   "source": []
  }
 ],
 "metadata": {
  "kernelspec": {
   "display_name": "Python 3",
   "language": "python",
   "name": "python3"
  },
  "language_info": {
   "codemirror_mode": {
    "name": "ipython",
    "version": 3
   },
   "file_extension": ".py",
   "mimetype": "text/x-python",
   "name": "python",
   "nbconvert_exporter": "python",
   "pygments_lexer": "ipython3",
   "version": "3.5.2"
  }
 },
 "nbformat": 4,
 "nbformat_minor": 2
}
