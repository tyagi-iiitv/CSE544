{
 "cells": [
  {
   "cell_type": "raw",
   "metadata": {},
   "source": [
    "Load the data and import required python packages"
   ]
  },
  {
   "cell_type": "code",
   "execution_count": 1,
   "metadata": {},
   "outputs": [
    {
     "name": "stdout",
     "output_type": "stream",
     "text": [
      "The dimensions of X is (1780653, 4)  Y is  (1780653, 1)\n"
     ]
    }
   ],
   "source": [
    "\n",
    "import numpy as np\n",
    "from sklearn.metrics import confusion_matrix\n",
    "from numpy import genfromtxt\n",
    "from sklearn import linear_model\n",
    "from sklearn.metrics import mean_squared_error,mean_absolute_error\n",
    "from matplotlib import pyplot as plt\n",
    "import pandas as pd\n",
    "import operator\n",
    "input_path=\"C:/Users/esais/Desktop/probstats/project/\"\n",
    "data= pd.read_csv(input_path+\"Accidents0515.csv\")\n",
    "X = data[['Accident_Severity', 'Number_of_Vehicles','Light_Conditions','Weather_Conditions']].values\n",
    "Y = data[['Number_of_Casualties']].values\n",
    "\n",
    "X =np.asarray(X).astype(float)\n",
    "Y = np.asarray(Y).astype(float)\n",
    "\n",
    "print(\"The dimensions of X is\",X.shape,\" Y is \",Y.shape)"
   ]
  },
  {
   "cell_type": "raw",
   "metadata": {},
   "source": [
    "Remove Outliers and split the data into 80% train and 20% test"
   ]
  },
  {
   "cell_type": "code",
   "execution_count": 2,
   "metadata": {},
   "outputs": [
    {
     "name": "stdout",
     "output_type": "stream",
     "text": [
      "After removing outliers, the dimensions of \n",
      " Train data is (1321853, 4) \n",
      " Test data is (330464, 4)\n"
     ]
    }
   ],
   "source": [
    "mean_y = np.mean(Y)\n",
    "std_y = np.std(Y)\n",
    "outlier_ind = []\n",
    "for i,value in enumerate(Y):\n",
    "    if value>mean_y+(2*std_y) or value<mean_y -(2*std_y):\n",
    "        outlier_ind.append(i)\n",
    "X = np.delete(X,outlier_ind,0)\n",
    "Y = np.delete(Y,outlier_ind)\n",
    "l= X.shape[0]\n",
    "X_train = X[:int(l*0.8)]\n",
    "Y_train = Y[:int(l*0.8)]\n",
    "X_test = X[int(l*0.8):]\n",
    "Y_test = Y[int(l*0.8):]\n",
    "print(\"After removing outliers, the dimensions of \\n Train data is\",X_train.shape,\"\\n Test data is\",X_test.shape)"
   ]
  },
  {
   "cell_type": "raw",
   "metadata": {},
   "source": [
    "Train a linear regressor and find the MAE, MSE"
   ]
  },
  {
   "cell_type": "code",
   "execution_count": 3,
   "metadata": {},
   "outputs": [],
   "source": [
    "def mean_absolute_percentage_error(y_true, y_pred):\n",
    "    \n",
    "    s=0\n",
    "    n=0\n",
    "    for i in range(len(y_true)):\n",
    "        if y_true[i]!=0:\n",
    "                s+=abs((y_true[i]-y_pred[i])/y_true[i])\n",
    "                n+=1\n",
    "    return (s/n)*100           \n",
    "            \n",
    "    \n",
    "def sum_squared_error(y_true, y_pred):\n",
    "    return np.sum(np.square(y_true - y_pred))\n"
   ]
  },
  {
   "cell_type": "code",
   "execution_count": 4,
   "metadata": {},
   "outputs": [
    {
     "name": "stdout",
     "output_type": "stream",
     "text": [
      "MAE of lr  0.2719547754308817\n",
      "MAPE of lr is 20.716977916906266 SSE of lr is 43599.96953209678\n"
     ]
    }
   ],
   "source": [
    "\n",
    "lr = linear_model.LinearRegression()\n",
    "lr.fit(X_train,Y_train)\n",
    "\n",
    "#print(\"ridge coeff: \",ridge.coef_)\n",
    "#print(\"ridge intercept \",ridge.intercept_)\n",
    "\n",
    "Y_predict_lr = lr.predict(X_test)\n",
    "\n",
    "\n",
    "print(\"MAE of lr \",mean_absolute_error(Y_test,Y_predict_lr))#,\" MSE of lr\",mean_squared_error(Y_test,Y_predict_lr))\n",
    "print(\"MAPE of lr is\",mean_absolute_percentage_error(Y_test,Y_predict_lr),\"SSE of lr is\",sum_squared_error(Y_test,Y_predict_lr))"
   ]
  },
  {
   "cell_type": "code",
   "execution_count": 5,
   "metadata": {},
   "outputs": [
    {
     "name": "stdout",
     "output_type": "stream",
     "text": [
      "MAE of lasso  0.27405721433548264\n",
      "MAPE of lasso is 20.861223156108597 SSE of lasso is 43699.689990756866\n"
     ]
    }
   ],
   "source": [
    "\n",
    "lasso = linear_model.Lasso(alpha=0.01)\n",
    "lasso.fit(X_train,Y_train)\n",
    "\n",
    "#print(\"lasso coeff: \",lasso.coef_)\n",
    "#print(\"lasso intercept \",lasso.intercept_)\n",
    "\n",
    "Y_predict_lasso = lasso.predict(X_test)\n",
    "\n",
    "\n",
    "print(\"MAE of lasso \",mean_absolute_error(Y_test,Y_predict_lasso))#,\" MSE of lasso\",mean_squared_error(Y_test,Y_predict_lasso))\n",
    "print(\"MAPE of lasso is\",mean_absolute_percentage_error(Y_test,Y_predict_lasso),\"SSE of lasso is\",sum_squared_error(Y_test,Y_predict_lasso))"
   ]
  },
  {
   "cell_type": "raw",
   "metadata": {},
   "source": [
    "As the predicted value is either 1 or 2, Logistic regression works better.\n",
    "We train a Logistic regressor and find the accuracy and Confusion Matrix along with MAE and MSE"
   ]
  },
  {
   "cell_type": "code",
   "execution_count": 6,
   "metadata": {},
   "outputs": [
    {
     "name": "stdout",
     "output_type": "stream",
     "text": [
      "Accuracy of logistic 0.8356371647138569\n",
      "MAE of logistic  0.16436283528614312\n",
      "MAPE of logistic is 8.414229689164326 SSE of logistic is 54316.0\n"
     ]
    }
   ],
   "source": [
    "logistic = linear_model.LogisticRegression()\n",
    "logistic.fit(X_train,Y_train)\n",
    "#print(\"Logistic coeff: \",logistic.coef_)\n",
    "#print(\"Logistic intercept \",logistic.intercept_)\n",
    "Y_predict_logistic = logistic.predict(X_test)\n",
    "l=0\n",
    "\n",
    "for i in range(len(Y_test)):\n",
    "    if Y_predict_logistic[i] == Y_test[i]:\n",
    "        l+=1\n",
    "    \n",
    "print(\"Accuracy of logistic\",l/len(Y_test))#,np.count_nonzero(Y_predict_logistic==2),np.count_nonzero(Y_test==2))\n",
    "#print(\"True Negative \",confusion_matrix(Y_test, Y_predict_logistic)[0][0],\" False Positive \",confusion_matrix(Y_test, Y_predict_logistic)[0][1])\n",
    "#print(\"False Negative \",confusion_matrix(Y_test, Y_predict_logistic)[1][0],\" True Positive \",confusion_matrix(Y_test, Y_predict_logistic)[1][1])\n",
    "print(\"MAE of logistic \",mean_absolute_error(Y_test,Y_predict_logistic))#,\" MSE of logistic\",mean_squared_error(Y_test,Y_predict_logistic))\n",
    "print(\"MAPE of logistic is\",mean_absolute_percentage_error(Y_test,Y_predict_logistic),\"SSE of logistic is\",sum_squared_error(Y_test,Y_predict_logistic))"
   ]
  }
 ],
 "metadata": {
  "kernelspec": {
   "display_name": "Python 3",
   "language": "python",
   "name": "python3"
  },
  "language_info": {
   "codemirror_mode": {
    "name": "ipython",
    "version": 3
   },
   "file_extension": ".py",
   "mimetype": "text/x-python",
   "name": "python",
   "nbconvert_exporter": "python",
   "pygments_lexer": "ipython3",
   "version": "3.6.4"
  }
 },
 "nbformat": 4,
 "nbformat_minor": 2
}
