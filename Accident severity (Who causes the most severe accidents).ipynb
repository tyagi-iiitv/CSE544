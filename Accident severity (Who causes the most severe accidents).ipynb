{
 "cells": [
  {
   "cell_type": "code",
   "execution_count": 1,
   "metadata": {},
   "outputs": [],
   "source": [
    "# This Python 3 environment comes with many helpful analytics libraries installed\n",
    "# It is defined by the kaggle/python docker image: https://github.com/kaggle/docker-python\n",
    "# For example, here's several helpful packages to load in \n",
    "\n",
    "import numpy as np # linear algebra\n",
    "import pandas as pd # data processing, CSV file I/O (e.g. pd.read_csv)\n",
    "from scipy import stats\n",
    "\n",
    "from subprocess import check_output\n",
    "\n",
    "# Any results you write to the current directory are saved as output.\n",
    "import warnings # current version of seaborn generates a bunch of warnings that we'll ignore\n",
    "warnings.filterwarnings(\"ignore\")\n",
    "import seaborn as sns\n",
    "import matplotlib.pyplot as plt\n",
    "sns.set(style=\"white\", color_codes=True)\n",
    "\n",
    "### Data Cleaning\n",
    "\n",
    "# The data in the 2015 files (Casualties and Vehicles) contained an extra column, which was needed to filter out. So I used  the data only till 2014.\n",
    "\n",
    "data = pd.read_csv('full_data.csv')\n"
   ]
  },
  {
   "cell_type": "code",
   "execution_count": 20,
   "metadata": {},
   "outputs": [
    {
     "data": {
      "text/plain": [
       "Index(['Unnamed: 0', 'Accident_Index', 'Location_Easting_OSGR',\n",
       "       'Location_Northing_OSGR', 'Longitude', 'Latitude', 'Police_Force',\n",
       "       'Accident_Severity', 'Number_of_Vehicles', 'Number_of_Casualties',\n",
       "       'Date', 'Day_of_Week', 'Time', 'Local_Authority_(District)',\n",
       "       'Local_Authority_(Highway)', '1st_Road_Class', '1st_Road_Number',\n",
       "       'Road_Type', 'Speed_limit', 'Junction_Detail', 'Junction_Control',\n",
       "       '2nd_Road_Class', '2nd_Road_Number',\n",
       "       'Pedestrian_Crossing-Human_Control',\n",
       "       'Pedestrian_Crossing-Physical_Facilities', 'Light_Conditions',\n",
       "       'Weather_Conditions', 'Road_Surface_Conditions',\n",
       "       'Special_Conditions_at_Site', 'Carriageway_Hazards',\n",
       "       'Urban_or_Rural_Area', 'Did_Police_Officer_Attend_Scene_of_Accident',\n",
       "       'LSOA_of_Accident_Location', 'Vehicle_Reference_x',\n",
       "       'Casualty_Reference', 'Casualty_Class', 'Sex_of_Casualty',\n",
       "       'Age_of_Casualty', 'Age_Band_of_Casualty', 'Casualty_Severity',\n",
       "       'Pedestrian_Location', 'Pedestrian_Movement', 'Car_Passenger',\n",
       "       'Bus_or_Coach_Passenger', 'Pedestrian_Road_Maintenance_Worker',\n",
       "       'Casualty_Type', 'Casualty_Home_Area_Type', 'Vehicle_Reference_y',\n",
       "       'Vehicle_Type', 'Towing_and_Articulation', 'Vehicle_Manoeuvre',\n",
       "       'Vehicle_Location-Restricted_Lane', 'Junction_Location',\n",
       "       'Skidding_and_Overturning', 'Hit_Object_in_Carriageway',\n",
       "       'Vehicle_Leaving_Carriageway', 'Hit_Object_off_Carriageway',\n",
       "       '1st_Point_of_Impact', 'Was_Vehicle_Left_Hand_Drive?',\n",
       "       'Journey_Purpose_of_Driver', 'Sex_of_Driver', 'Age_of_Driver',\n",
       "       'Age_Band_of_Driver', 'Engine_Capacity_(CC)', 'Propulsion_Code',\n",
       "       'Age_of_Vehicle', 'Driver_IMD_Decile', 'Driver_Home_Area_Type'],\n",
       "      dtype='object')"
      ]
     },
     "execution_count": 20,
     "metadata": {},
     "output_type": "execute_result"
    }
   ],
   "source": [
    "data.columns"
   ]
  },
  {
   "cell_type": "code",
   "execution_count": 3,
   "metadata": {},
   "outputs": [],
   "source": [
    "small_data = data[['Accident_Severity', 'Sex_of_Driver', 'Date']]"
   ]
  },
  {
   "cell_type": "code",
   "execution_count": 8,
   "metadata": {},
   "outputs": [],
   "source": [
    "severity_data = small_data.loc[small_data['Accident_Severity']==2]"
   ]
  },
  {
   "cell_type": "code",
   "execution_count": 9,
   "metadata": {},
   "outputs": [
    {
     "data": {
      "text/plain": [
       "(596571, 3)"
      ]
     },
     "execution_count": 9,
     "metadata": {},
     "output_type": "execute_result"
    }
   ],
   "source": [
    "severity_data.shape"
   ]
  },
  {
   "cell_type": "code",
   "execution_count": 11,
   "metadata": {},
   "outputs": [],
   "source": [
    "data_males = severity_data.loc[severity_data['Sex_of_Driver']==1]\n",
    "data_females = severity_data.loc[severity_data['Sex_of_Driver']==2]\n",
    "\n",
    "males_dist = list(data_males.groupby(['Date']).count().Sex_of_Driver)\n",
    "females_dist = list(data_females.groupby(['Date']).count().Sex_of_Driver)"
   ]
  },
  {
   "cell_type": "code",
   "execution_count": 12,
   "metadata": {},
   "outputs": [
    {
     "data": {
      "text/plain": [
       "<matplotlib.axes._subplots.AxesSubplot at 0x7f0d95d3dc88>"
      ]
     },
     "execution_count": 12,
     "metadata": {},
     "output_type": "execute_result"
    },
    {
     "data": {
      "image/png": "[encoded data removed]",
      "text/plain": [
       "<Figure size 432x288 with 1 Axes>"
      ]
     },
     "metadata": {},
     "output_type": "display_data"
    }
   ],
   "source": [
    "sns.distplot(males_dist)"
   ]
  },
  {
   "cell_type": "code",
   "execution_count": 13,
   "metadata": {},
   "outputs": [
    {
     "data": {
      "text/plain": [
       "<matplotlib.axes._subplots.AxesSubplot at 0x7f0d95d3d438>"
      ]
     },
     "execution_count": 13,
     "metadata": {},
     "output_type": "execute_result"
    },
    {
     "data": {
      "image/png": "[encoded data removed]",
      "text/plain": [
       "<Figure size 432x288 with 1 Axes>"
      ]
     },
     "metadata": {},
     "output_type": "display_data"
    }
   ],
   "source": [
    "sns.distplot(females_dist)"
   ]
  },
  {
   "cell_type": "code",
   "execution_count": 14,
   "metadata": {},
   "outputs": [],
   "source": [
    "mean_males = np.mean(males_dist)\n",
    "mean_females = np.mean(females_dist)"
   ]
  },
  {
   "cell_type": "code",
   "execution_count": 15,
   "metadata": {},
   "outputs": [],
   "source": [
    "z_score = 1.645\n",
    "\n",
    "male_var = np.var(males_dist)\n",
    "females_var = np.var(females_dist)\n",
    "\n",
    "ci_max = (mean_males - mean_females) + (z_score*np.sqrt(male_var+females_var))\n",
    "\n",
    "ci_min = (mean_males - mean_females) - (z_score*np.sqrt(male_var+females_var))"
   ]
  },
  {
   "cell_type": "code",
   "execution_count": 16,
   "metadata": {},
   "outputs": [
    {
     "data": {
      "text/plain": [
       "195.3232644468393"
      ]
     },
     "execution_count": 16,
     "metadata": {},
     "output_type": "execute_result"
    }
   ],
   "source": [
    "ci_max"
   ]
  },
  {
   "cell_type": "code",
   "execution_count": 17,
   "metadata": {},
   "outputs": [
    {
     "data": {
      "text/plain": [
       "-38.02260727268812"
      ]
     },
     "execution_count": 17,
     "metadata": {},
     "output_type": "execute_result"
    }
   ],
   "source": [
    "ci_min"
   ]
  },
  {
   "cell_type": "markdown",
   "metadata": {},
   "source": [
    "**Wald's Test**\n",
    "For Wald's test, Null Hypo = The mean daily accidents of males and females are equal. \n",
    "\n",
    "Alternate Hypothesis = Mean daily accidents by females are more than that of males i.e. \n",
    "\n",
    "$H_{0}: \\mu_{f} = \\mu_{m}$ and $H_{1}: \\mu_{f} > \\mu_{m}$"
   ]
  },
  {
   "cell_type": "code",
   "execution_count": 18,
   "metadata": {},
   "outputs": [
    {
     "data": {
      "text/plain": [
       "-1.1089100447532132"
      ]
     },
     "execution_count": 18,
     "metadata": {},
     "output_type": "execute_result"
    }
   ],
   "source": [
    "statistic = (mean_females - mean_males)/(np.sqrt(male_var+females_var))\n",
    "statistic"
   ]
  },
  {
   "cell_type": "code",
   "execution_count": 19,
   "metadata": {},
   "outputs": [
    {
     "data": {
      "text/plain": [
       "1.0"
      ]
     },
     "execution_count": 19,
     "metadata": {},
     "output_type": "execute_result"
    }
   ],
   "source": [
    "p_value = 1-stats.wald.cdf(statistic)\n",
    "p_value"
   ]
  },
  {
   "cell_type": "code",
   "execution_count": null,
   "metadata": {},
   "outputs": [],
   "source": []
  }
 ],
 "metadata": {
  "kernelspec": {
   "display_name": "Python 3",
   "language": "python",
   "name": "python3"
  },
  "language_info": {
   "codemirror_mode": {
    "name": "ipython",
    "version": 3
   },
   "file_extension": ".py",
   "mimetype": "text/x-python",
   "name": "python",
   "nbconvert_exporter": "python",
   "pygments_lexer": "ipython3",
   "version": "3.5.2"
  }
 },
 "nbformat": 4,
 "nbformat_minor": 2
}
